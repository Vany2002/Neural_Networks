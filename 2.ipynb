{
  "nbformat": 4,
  "nbformat_minor": 0,
  "metadata": {
    "colab": {
      "provenance": [],
      "include_colab_link": true
    },
    "kernelspec": {
      "name": "python3",
      "display_name": "Python 3"
    },
    "language_info": {
      "name": "python"
    }
  },
  "cells": [
    {
      "cell_type": "markdown",
      "metadata": {
        "id": "view-in-github",
        "colab_type": "text"
      },
      "source": [
        "<a href=\"https://colab.research.google.com/github/Vany2002/Neural_Networks/blob/main/2.ipynb\" target=\"_parent\"><img src=\"https://colab.research.google.com/assets/colab-badge.svg\" alt=\"Open In Colab\"/></a>"
      ]
    },
    {
      "cell_type": "markdown",
      "source": [
        "# Практическая работа №2. Использование глубоких нейронных сетей для решения задач регрессии и классификации\n",
        "\n"
      ],
      "metadata": {
        "id": "jVOridAYaoD_"
      }
    },
    {
      "cell_type": "markdown",
      "source": [
        "**Ссылка на код с пары:**\n",
        "https://colab.research.google.com/drive/18EM8mrpURStkmbxWjZybWbWh23Si5b4A?usp=sharing\n"
      ],
      "metadata": {
        "id": "xfLS4L8wbf5M"
      }
    },
    {
      "cell_type": "markdown",
      "source": [
        "## Задание №1. Обучение модели ИНС для решения задачи регрессии\n",
        "\n"
      ],
      "metadata": {
        "id": "ChzaEMuFavMw"
      }
    },
    {
      "cell_type": "markdown",
      "source": [
        "Постройте глубокую нейронную сеть для предсказания цен на недвижимость в городе Бостон, используя датасет датасет boston_housing_price"
      ],
      "metadata": {
        "id": "_AW7ypoN3qSi"
      }
    },
    {
      "cell_type": "markdown",
      "source": [
        "[Описание датасета](https://www.hackersrealm.net/post/boston-house-price-prediction-analysis-using-python)"
      ],
      "metadata": {
        "id": "O1PDCog53nrg"
      }
    },
    {
      "cell_type": "markdown",
      "source": [
        "#### 1.1. Загружаем исходные данные:"
      ],
      "metadata": {
        "id": "QWLURy8z0u3k"
      }
    },
    {
      "cell_type": "code",
      "source": [
        "import pandas as pd\n",
        "import numpy as np\n",
        "\n",
        "from sklearn.model_selection import train_test_split\n",
        "\n",
        "data_url = \"http://lib.stat.cmu.edu/datasets/boston\"\n",
        "raw_df = pd.read_csv(data_url, sep=\"\\s+\", skiprows=22, header=None)\n",
        "data = np.hstack([raw_df.values[::2, :], raw_df.values[1::2, :2]])\n",
        "target = raw_df.values[1::2, 2]\n",
        "\n",
        "X_train, X_test, y_train, y_test = train_test_split(data, target, test_size=0.25, random_state=0)\n",
        "print(X_train[0], y_train[0])"
      ],
      "metadata": {
        "id": "vGAIXw8gzpLL",
        "colab": {
          "base_uri": "https://localhost:8080/"
        },
        "outputId": "2fe53dc4-bb9c-4197-a7e8-a4c9f159703f"
      },
      "execution_count": 2,
      "outputs": [
        {
          "output_type": "stream",
          "name": "stdout",
          "text": [
            "[1.9133e-01 2.2000e+01 5.8600e+00 0.0000e+00 4.3100e-01 5.6050e+00\n",
            " 7.0200e+01 7.9549e+00 7.0000e+00 3.3000e+02 1.9100e+01 3.8913e+02\n",
            " 1.8460e+01] 18.5\n"
          ]
        }
      ]
    },
    {
      "cell_type": "markdown",
      "metadata": {
        "id": "815ut8JJTIM7"
      },
      "source": [
        "#### 1.2. Проектируем архитектуру для этой задачи"
      ]
    },
    {
      "cell_type": "code",
      "source": [
        "from keras.layers import Dense\n",
        "from keras.models import Sequential\n",
        "from sklearn.preprocessing import MinMaxScaler\n",
        "import pickle\n",
        "\n",
        "mms = MinMaxScaler()\n",
        "\n",
        "X_train_n = mms.fit_transform(X_train)\n",
        "X_test_n = mms.transform(X_test)\n",
        "\n",
        "with open(\"scaler.pkl\", \"wb\") as f:\n",
        "    pickle.dump(mms, f)\n",
        "\n",
        "model = Sequential([\n",
        "    Dense(256, input_shape=(13,), activation='relu'),\n",
        "    Dense(128, activation='relu'),\n",
        "    Dense(1, activation='relu')\n",
        "])\n",
        "\n",
        "model.summary()"
      ],
      "metadata": {
        "id": "alrRyjbs1c8s",
        "colab": {
          "base_uri": "https://localhost:8080/"
        },
        "outputId": "d95e01b1-245b-45f6-c5f5-444507fbbc15"
      },
      "execution_count": 3,
      "outputs": [
        {
          "output_type": "stream",
          "name": "stdout",
          "text": [
            "Model: \"sequential\"\n",
            "_________________________________________________________________\n",
            " Layer (type)                Output Shape              Param #   \n",
            "=================================================================\n",
            " dense (Dense)               (None, 256)               3584      \n",
            "                                                                 \n",
            " dense_1 (Dense)             (None, 128)               32896     \n",
            "                                                                 \n",
            " dense_2 (Dense)             (None, 1)                 129       \n",
            "                                                                 \n",
            "=================================================================\n",
            "Total params: 36609 (143.00 KB)\n",
            "Trainable params: 36609 (143.00 KB)\n",
            "Non-trainable params: 0 (0.00 Byte)\n",
            "_________________________________________________________________\n"
          ]
        }
      ]
    },
    {
      "cell_type": "markdown",
      "metadata": {
        "id": "F9E1W4yCT0YC"
      },
      "source": [
        "#### 1.3. Компилируем модель ИНС\n",
        "\n",
        "Подберите нужную функцию потерь и метрику."
      ]
    },
    {
      "cell_type": "code",
      "source": [
        "from keras.optimizers import Adam\n",
        "\n",
        "model.compile(Adam(learning_rate=0.001), loss='mse', metrics='mae')"
      ],
      "metadata": {
        "id": "Fu8VHdqV1gqy"
      },
      "execution_count": 4,
      "outputs": []
    },
    {
      "cell_type": "markdown",
      "metadata": {
        "id": "ebac-dNAUBtX"
      },
      "source": [
        "#### 1.4. Обучаем модель ИНС"
      ]
    },
    {
      "cell_type": "code",
      "source": [
        "from keras.callbacks import EarlyStopping, ModelCheckpoint\n",
        "early_stopping = EarlyStopping(patience=5)\n",
        "# checkpoint = ModelCheckpoint(filepath=\"best_model.h5\",\n",
        "#                              monitor=\"mae\",\n",
        "#                              save_best_only=True,\n",
        "#                              verbose=0)\n",
        "\n",
        "H = model.fit(X_train_n, y_train, epochs=200, validation_data=(X_test_n, y_test))"
      ],
      "metadata": {
        "id": "LcVz6t601hFI",
        "colab": {
          "base_uri": "https://localhost:8080/"
        },
        "outputId": "e62c9b7f-9d24-4195-a8df-56637f3ad562"
      },
      "execution_count": 5,
      "outputs": [
        {
          "output_type": "stream",
          "name": "stdout",
          "text": [
            "Epoch 1/200\n",
            "12/12 [==============================] - 2s 37ms/step - loss: 564.7840 - mae: 21.8786 - val_loss: 503.7363 - val_mae: 20.5047\n",
            "Epoch 2/200\n",
            "12/12 [==============================] - 0s 8ms/step - loss: 464.0577 - mae: 19.3316 - val_loss: 365.7121 - val_mae: 16.7001\n",
            "Epoch 3/200\n",
            "12/12 [==============================] - 0s 8ms/step - loss: 300.3379 - mae: 14.3662 - val_loss: 177.8748 - val_mae: 10.5217\n",
            "Epoch 4/200\n",
            "12/12 [==============================] - 0s 8ms/step - loss: 148.3185 - mae: 9.4775 - val_loss: 112.0129 - val_mae: 7.8032\n",
            "Epoch 5/200\n",
            "12/12 [==============================] - 0s 9ms/step - loss: 127.3738 - mae: 8.9554 - val_loss: 91.5465 - val_mae: 6.9804\n",
            "Epoch 6/200\n",
            "12/12 [==============================] - 0s 10ms/step - loss: 95.2751 - mae: 7.4428 - val_loss: 77.4501 - val_mae: 6.0130\n",
            "Epoch 7/200\n",
            "12/12 [==============================] - 0s 10ms/step - loss: 76.8143 - mae: 6.4098 - val_loss: 65.3345 - val_mae: 5.5708\n",
            "Epoch 8/200\n",
            "12/12 [==============================] - 0s 8ms/step - loss: 62.8804 - mae: 5.8451 - val_loss: 59.7622 - val_mae: 5.3376\n",
            "Epoch 9/200\n",
            "12/12 [==============================] - 0s 9ms/step - loss: 54.5392 - mae: 5.3259 - val_loss: 57.5930 - val_mae: 5.2000\n",
            "Epoch 10/200\n",
            "12/12 [==============================] - 0s 8ms/step - loss: 49.2853 - mae: 5.0587 - val_loss: 56.1737 - val_mae: 5.1463\n",
            "Epoch 11/200\n",
            "12/12 [==============================] - 0s 9ms/step - loss: 45.6693 - mae: 4.8678 - val_loss: 55.1962 - val_mae: 5.0841\n",
            "Epoch 12/200\n",
            "12/12 [==============================] - 0s 11ms/step - loss: 42.9862 - mae: 4.6341 - val_loss: 53.5505 - val_mae: 5.0045\n",
            "Epoch 13/200\n",
            "12/12 [==============================] - 0s 9ms/step - loss: 40.5357 - mae: 4.4845 - val_loss: 52.3497 - val_mae: 4.8704\n",
            "Epoch 14/200\n",
            "12/12 [==============================] - 0s 10ms/step - loss: 37.8125 - mae: 4.3881 - val_loss: 49.6533 - val_mae: 4.8777\n",
            "Epoch 15/200\n",
            "12/12 [==============================] - 0s 11ms/step - loss: 35.5833 - mae: 4.3146 - val_loss: 47.8408 - val_mae: 4.7455\n",
            "Epoch 16/200\n",
            "12/12 [==============================] - 0s 9ms/step - loss: 33.5440 - mae: 4.0678 - val_loss: 46.4017 - val_mae: 4.5821\n",
            "Epoch 17/200\n",
            "12/12 [==============================] - 0s 9ms/step - loss: 31.2789 - mae: 3.9808 - val_loss: 43.8992 - val_mae: 4.5665\n",
            "Epoch 18/200\n",
            "12/12 [==============================] - 0s 9ms/step - loss: 29.5180 - mae: 3.8829 - val_loss: 42.8372 - val_mae: 4.4101\n",
            "Epoch 19/200\n",
            "12/12 [==============================] - 0s 11ms/step - loss: 27.5235 - mae: 3.6981 - val_loss: 40.8684 - val_mae: 4.3138\n",
            "Epoch 20/200\n",
            "12/12 [==============================] - 0s 8ms/step - loss: 26.0674 - mae: 3.6577 - val_loss: 39.3384 - val_mae: 4.2255\n",
            "Epoch 21/200\n",
            "12/12 [==============================] - 0s 6ms/step - loss: 24.7077 - mae: 3.4199 - val_loss: 38.3679 - val_mae: 4.1311\n",
            "Epoch 22/200\n",
            "12/12 [==============================] - 0s 6ms/step - loss: 23.4364 - mae: 3.4382 - val_loss: 36.7210 - val_mae: 4.0285\n",
            "Epoch 23/200\n",
            "12/12 [==============================] - 0s 6ms/step - loss: 22.2057 - mae: 3.2746 - val_loss: 34.7800 - val_mae: 3.9381\n",
            "Epoch 24/200\n",
            "12/12 [==============================] - 0s 7ms/step - loss: 21.4562 - mae: 3.1482 - val_loss: 34.3007 - val_mae: 3.8829\n",
            "Epoch 25/200\n",
            "12/12 [==============================] - 0s 7ms/step - loss: 20.2759 - mae: 3.1763 - val_loss: 33.4973 - val_mae: 3.8256\n",
            "Epoch 26/200\n",
            "12/12 [==============================] - 0s 7ms/step - loss: 19.7176 - mae: 3.0249 - val_loss: 32.2869 - val_mae: 3.7577\n",
            "Epoch 27/200\n",
            "12/12 [==============================] - 0s 6ms/step - loss: 18.8445 - mae: 3.0440 - val_loss: 31.7631 - val_mae: 3.7017\n",
            "Epoch 28/200\n",
            "12/12 [==============================] - 0s 6ms/step - loss: 18.3212 - mae: 2.9142 - val_loss: 30.7502 - val_mae: 3.6412\n",
            "Epoch 29/200\n",
            "12/12 [==============================] - 0s 6ms/step - loss: 17.8668 - mae: 2.9188 - val_loss: 29.9816 - val_mae: 3.5786\n",
            "Epoch 30/200\n",
            "12/12 [==============================] - 0s 6ms/step - loss: 17.4375 - mae: 2.8634 - val_loss: 29.1821 - val_mae: 3.5436\n",
            "Epoch 31/200\n",
            "12/12 [==============================] - 0s 7ms/step - loss: 17.1230 - mae: 2.8123 - val_loss: 29.0665 - val_mae: 3.5059\n",
            "Epoch 32/200\n",
            "12/12 [==============================] - 0s 7ms/step - loss: 16.8433 - mae: 2.8746 - val_loss: 29.1197 - val_mae: 3.4920\n",
            "Epoch 33/200\n",
            "12/12 [==============================] - 0s 7ms/step - loss: 16.4739 - mae: 2.7265 - val_loss: 28.1496 - val_mae: 3.4451\n",
            "Epoch 34/200\n",
            "12/12 [==============================] - 0s 7ms/step - loss: 16.3836 - mae: 2.7753 - val_loss: 29.5022 - val_mae: 3.4793\n",
            "Epoch 35/200\n",
            "12/12 [==============================] - 0s 8ms/step - loss: 15.8533 - mae: 2.6669 - val_loss: 26.9466 - val_mae: 3.3761\n",
            "Epoch 36/200\n",
            "12/12 [==============================] - 0s 7ms/step - loss: 15.8082 - mae: 2.7283 - val_loss: 28.6302 - val_mae: 3.4172\n",
            "Epoch 37/200\n",
            "12/12 [==============================] - 0s 7ms/step - loss: 15.5357 - mae: 2.6521 - val_loss: 27.1564 - val_mae: 3.3536\n",
            "Epoch 38/200\n",
            "12/12 [==============================] - 0s 7ms/step - loss: 15.1207 - mae: 2.6116 - val_loss: 26.8066 - val_mae: 3.3214\n",
            "Epoch 39/200\n",
            "12/12 [==============================] - 0s 6ms/step - loss: 14.9114 - mae: 2.6077 - val_loss: 26.5366 - val_mae: 3.3208\n",
            "Epoch 40/200\n",
            "12/12 [==============================] - 0s 6ms/step - loss: 14.7616 - mae: 2.5789 - val_loss: 26.6838 - val_mae: 3.2983\n",
            "Epoch 41/200\n",
            "12/12 [==============================] - 0s 7ms/step - loss: 14.5843 - mae: 2.5699 - val_loss: 26.5089 - val_mae: 3.3010\n",
            "Epoch 42/200\n",
            "12/12 [==============================] - 0s 6ms/step - loss: 14.4620 - mae: 2.5398 - val_loss: 25.8669 - val_mae: 3.2414\n",
            "Epoch 43/200\n",
            "12/12 [==============================] - 0s 7ms/step - loss: 14.1232 - mae: 2.5055 - val_loss: 25.5066 - val_mae: 3.2284\n",
            "Epoch 44/200\n",
            "12/12 [==============================] - 0s 7ms/step - loss: 13.9858 - mae: 2.4897 - val_loss: 25.5137 - val_mae: 3.2397\n",
            "Epoch 45/200\n",
            "12/12 [==============================] - 0s 7ms/step - loss: 14.0516 - mae: 2.4995 - val_loss: 25.4927 - val_mae: 3.2386\n",
            "Epoch 46/200\n",
            "12/12 [==============================] - 0s 7ms/step - loss: 13.8785 - mae: 2.4893 - val_loss: 25.2643 - val_mae: 3.1789\n",
            "Epoch 47/200\n",
            "12/12 [==============================] - 0s 6ms/step - loss: 13.7159 - mae: 2.4863 - val_loss: 23.9077 - val_mae: 3.1651\n",
            "Epoch 48/200\n",
            "12/12 [==============================] - 0s 7ms/step - loss: 13.7582 - mae: 2.4780 - val_loss: 25.4001 - val_mae: 3.1950\n",
            "Epoch 49/200\n",
            "12/12 [==============================] - 0s 5ms/step - loss: 13.3446 - mae: 2.4128 - val_loss: 24.1914 - val_mae: 3.1845\n",
            "Epoch 50/200\n",
            "12/12 [==============================] - 0s 8ms/step - loss: 13.2972 - mae: 2.4873 - val_loss: 25.5418 - val_mae: 3.1641\n",
            "Epoch 51/200\n",
            "12/12 [==============================] - 0s 6ms/step - loss: 13.0837 - mae: 2.4148 - val_loss: 24.2449 - val_mae: 3.1374\n",
            "Epoch 52/200\n",
            "12/12 [==============================] - 0s 6ms/step - loss: 12.9714 - mae: 2.4056 - val_loss: 25.3631 - val_mae: 3.1447\n",
            "Epoch 53/200\n",
            "12/12 [==============================] - 0s 7ms/step - loss: 12.5169 - mae: 2.3575 - val_loss: 23.5065 - val_mae: 3.1039\n",
            "Epoch 54/200\n",
            "12/12 [==============================] - 0s 6ms/step - loss: 12.7843 - mae: 2.3732 - val_loss: 24.1349 - val_mae: 3.1405\n",
            "Epoch 55/200\n",
            "12/12 [==============================] - 0s 6ms/step - loss: 12.6307 - mae: 2.4306 - val_loss: 24.8195 - val_mae: 3.1269\n",
            "Epoch 56/200\n",
            "12/12 [==============================] - 0s 6ms/step - loss: 12.4978 - mae: 2.3495 - val_loss: 23.2381 - val_mae: 3.0535\n",
            "Epoch 57/200\n",
            "12/12 [==============================] - 0s 7ms/step - loss: 11.9854 - mae: 2.2981 - val_loss: 23.6575 - val_mae: 3.0968\n",
            "Epoch 58/200\n",
            "12/12 [==============================] - 0s 6ms/step - loss: 11.9397 - mae: 2.3433 - val_loss: 24.4093 - val_mae: 3.0773\n",
            "Epoch 59/200\n",
            "12/12 [==============================] - 0s 7ms/step - loss: 11.9512 - mae: 2.3249 - val_loss: 22.4066 - val_mae: 3.1088\n",
            "Epoch 60/200\n",
            "12/12 [==============================] - 0s 6ms/step - loss: 11.8559 - mae: 2.3213 - val_loss: 22.7692 - val_mae: 3.0134\n",
            "Epoch 61/200\n",
            "12/12 [==============================] - 0s 6ms/step - loss: 11.3676 - mae: 2.2702 - val_loss: 22.3927 - val_mae: 3.0463\n",
            "Epoch 62/200\n",
            "12/12 [==============================] - 0s 7ms/step - loss: 11.7280 - mae: 2.3199 - val_loss: 22.4815 - val_mae: 2.9936\n",
            "Epoch 63/200\n",
            "12/12 [==============================] - 0s 8ms/step - loss: 11.0968 - mae: 2.2894 - val_loss: 23.3463 - val_mae: 3.0333\n",
            "Epoch 64/200\n",
            "12/12 [==============================] - 0s 7ms/step - loss: 11.1054 - mae: 2.2394 - val_loss: 21.9457 - val_mae: 3.0073\n",
            "Epoch 65/200\n",
            "12/12 [==============================] - 0s 6ms/step - loss: 10.8939 - mae: 2.2463 - val_loss: 22.0739 - val_mae: 2.9708\n",
            "Epoch 66/200\n",
            "12/12 [==============================] - 0s 7ms/step - loss: 10.7502 - mae: 2.2022 - val_loss: 22.5522 - val_mae: 3.0059\n",
            "Epoch 67/200\n",
            "12/12 [==============================] - 0s 7ms/step - loss: 10.5693 - mae: 2.2067 - val_loss: 21.4368 - val_mae: 2.9633\n",
            "Epoch 68/200\n",
            "12/12 [==============================] - 0s 6ms/step - loss: 10.5413 - mae: 2.1987 - val_loss: 23.3302 - val_mae: 3.0238\n",
            "Epoch 69/200\n",
            "12/12 [==============================] - 0s 6ms/step - loss: 10.5411 - mae: 2.1957 - val_loss: 21.4898 - val_mae: 2.9933\n",
            "Epoch 70/200\n",
            "12/12 [==============================] - 0s 7ms/step - loss: 10.3325 - mae: 2.1753 - val_loss: 21.2297 - val_mae: 2.9413\n",
            "Epoch 71/200\n",
            "12/12 [==============================] - 0s 6ms/step - loss: 10.2631 - mae: 2.1943 - val_loss: 22.4002 - val_mae: 2.9966\n",
            "Epoch 72/200\n",
            "12/12 [==============================] - 0s 7ms/step - loss: 9.9161 - mae: 2.1434 - val_loss: 20.6730 - val_mae: 2.9525\n",
            "Epoch 73/200\n",
            "12/12 [==============================] - 0s 7ms/step - loss: 9.9268 - mae: 2.1343 - val_loss: 21.5421 - val_mae: 2.9516\n",
            "Epoch 74/200\n",
            "12/12 [==============================] - 0s 7ms/step - loss: 9.9232 - mae: 2.1689 - val_loss: 22.3981 - val_mae: 2.9912\n",
            "Epoch 75/200\n",
            "12/12 [==============================] - 0s 7ms/step - loss: 9.8077 - mae: 2.1275 - val_loss: 20.6898 - val_mae: 2.9389\n",
            "Epoch 76/200\n",
            "12/12 [==============================] - 0s 8ms/step - loss: 9.7738 - mae: 2.1682 - val_loss: 22.3312 - val_mae: 2.9769\n",
            "Epoch 77/200\n",
            "12/12 [==============================] - 0s 7ms/step - loss: 9.6493 - mae: 2.1429 - val_loss: 21.4342 - val_mae: 2.9543\n",
            "Epoch 78/200\n",
            "12/12 [==============================] - 0s 5ms/step - loss: 9.4109 - mae: 2.1212 - val_loss: 20.2384 - val_mae: 2.9186\n",
            "Epoch 79/200\n",
            "12/12 [==============================] - 0s 6ms/step - loss: 9.3235 - mae: 2.0988 - val_loss: 20.6094 - val_mae: 2.9267\n",
            "Epoch 80/200\n",
            "12/12 [==============================] - 0s 7ms/step - loss: 9.1174 - mae: 2.0587 - val_loss: 20.4881 - val_mae: 2.9271\n",
            "Epoch 81/200\n",
            "12/12 [==============================] - 0s 7ms/step - loss: 9.0948 - mae: 2.0726 - val_loss: 19.9652 - val_mae: 2.9040\n",
            "Epoch 82/200\n",
            "12/12 [==============================] - 0s 6ms/step - loss: 8.9888 - mae: 2.0695 - val_loss: 20.1997 - val_mae: 2.9111\n",
            "Epoch 83/200\n",
            "12/12 [==============================] - 0s 7ms/step - loss: 8.9606 - mae: 2.0685 - val_loss: 20.6750 - val_mae: 2.9251\n",
            "Epoch 84/200\n",
            "12/12 [==============================] - 0s 6ms/step - loss: 8.8705 - mae: 2.0588 - val_loss: 19.8285 - val_mae: 2.9683\n",
            "Epoch 85/200\n",
            "12/12 [==============================] - 0s 7ms/step - loss: 9.0028 - mae: 2.0805 - val_loss: 20.3739 - val_mae: 2.9035\n",
            "Epoch 86/200\n",
            "12/12 [==============================] - 0s 7ms/step - loss: 8.6126 - mae: 2.0578 - val_loss: 20.7681 - val_mae: 2.9236\n",
            "Epoch 87/200\n",
            "12/12 [==============================] - 0s 7ms/step - loss: 9.6296 - mae: 2.1830 - val_loss: 19.6946 - val_mae: 2.9268\n",
            "Epoch 88/200\n",
            "12/12 [==============================] - 0s 7ms/step - loss: 8.7110 - mae: 2.0440 - val_loss: 19.1473 - val_mae: 2.8817\n",
            "Epoch 89/200\n",
            "12/12 [==============================] - 0s 7ms/step - loss: 8.3965 - mae: 2.0114 - val_loss: 20.7955 - val_mae: 2.9361\n",
            "Epoch 90/200\n",
            "12/12 [==============================] - 0s 6ms/step - loss: 8.4000 - mae: 2.0245 - val_loss: 20.0119 - val_mae: 2.8768\n",
            "Epoch 91/200\n",
            "12/12 [==============================] - 0s 6ms/step - loss: 8.2950 - mae: 1.9975 - val_loss: 19.4043 - val_mae: 2.8579\n",
            "Epoch 92/200\n",
            "12/12 [==============================] - 0s 6ms/step - loss: 8.2555 - mae: 1.9950 - val_loss: 20.2490 - val_mae: 2.8924\n",
            "Epoch 93/200\n",
            "12/12 [==============================] - 0s 6ms/step - loss: 8.3399 - mae: 2.0089 - val_loss: 19.9629 - val_mae: 2.8650\n",
            "Epoch 94/200\n",
            "12/12 [==============================] - 0s 7ms/step - loss: 8.2590 - mae: 2.0239 - val_loss: 19.6996 - val_mae: 2.9623\n",
            "Epoch 95/200\n",
            "12/12 [==============================] - 0s 6ms/step - loss: 8.1212 - mae: 2.0285 - val_loss: 19.0445 - val_mae: 2.8267\n",
            "Epoch 96/200\n",
            "12/12 [==============================] - 0s 7ms/step - loss: 8.1522 - mae: 1.9955 - val_loss: 20.1612 - val_mae: 2.8707\n",
            "Epoch 97/200\n",
            "12/12 [==============================] - 0s 7ms/step - loss: 7.9104 - mae: 1.9638 - val_loss: 19.6701 - val_mae: 2.8770\n",
            "Epoch 98/200\n",
            "12/12 [==============================] - 0s 6ms/step - loss: 7.9550 - mae: 1.9670 - val_loss: 19.8707 - val_mae: 2.8466\n",
            "Epoch 99/200\n",
            "12/12 [==============================] - 0s 6ms/step - loss: 8.2611 - mae: 2.0337 - val_loss: 22.2261 - val_mae: 3.0668\n",
            "Epoch 100/200\n",
            "12/12 [==============================] - 0s 6ms/step - loss: 7.9817 - mae: 2.0255 - val_loss: 18.9507 - val_mae: 2.8163\n",
            "Epoch 101/200\n",
            "12/12 [==============================] - 0s 6ms/step - loss: 7.6602 - mae: 1.9403 - val_loss: 18.5778 - val_mae: 2.8619\n",
            "Epoch 102/200\n",
            "12/12 [==============================] - 0s 6ms/step - loss: 7.9523 - mae: 1.9964 - val_loss: 19.3612 - val_mae: 2.8501\n",
            "Epoch 103/200\n",
            "12/12 [==============================] - 0s 7ms/step - loss: 7.5775 - mae: 1.9463 - val_loss: 19.7484 - val_mae: 2.8829\n",
            "Epoch 104/200\n",
            "12/12 [==============================] - 0s 6ms/step - loss: 7.4114 - mae: 1.9297 - val_loss: 19.3701 - val_mae: 2.8377\n",
            "Epoch 105/200\n",
            "12/12 [==============================] - 0s 7ms/step - loss: 7.4598 - mae: 1.9254 - val_loss: 18.1910 - val_mae: 2.8272\n",
            "Epoch 106/200\n",
            "12/12 [==============================] - 0s 5ms/step - loss: 7.3182 - mae: 1.9152 - val_loss: 19.2604 - val_mae: 2.8636\n",
            "Epoch 107/200\n",
            "12/12 [==============================] - 0s 6ms/step - loss: 7.3418 - mae: 1.9164 - val_loss: 19.0201 - val_mae: 2.8478\n",
            "Epoch 108/200\n",
            "12/12 [==============================] - 0s 7ms/step - loss: 7.1357 - mae: 1.8975 - val_loss: 18.9014 - val_mae: 2.8235\n",
            "Epoch 109/200\n",
            "12/12 [==============================] - 0s 7ms/step - loss: 7.1225 - mae: 1.8869 - val_loss: 19.2675 - val_mae: 2.8505\n",
            "Epoch 110/200\n",
            "12/12 [==============================] - 0s 7ms/step - loss: 7.2277 - mae: 1.9197 - val_loss: 18.3043 - val_mae: 2.7926\n",
            "Epoch 111/200\n",
            "12/12 [==============================] - 0s 8ms/step - loss: 7.4980 - mae: 1.9562 - val_loss: 18.4263 - val_mae: 2.8950\n",
            "Epoch 112/200\n",
            "12/12 [==============================] - 0s 6ms/step - loss: 7.4807 - mae: 1.9765 - val_loss: 18.0995 - val_mae: 2.8012\n",
            "Epoch 113/200\n",
            "12/12 [==============================] - 0s 7ms/step - loss: 7.5626 - mae: 1.9801 - val_loss: 18.6875 - val_mae: 2.8286\n",
            "Epoch 114/200\n",
            "12/12 [==============================] - 0s 7ms/step - loss: 7.0263 - mae: 1.9240 - val_loss: 20.6904 - val_mae: 2.9866\n",
            "Epoch 115/200\n",
            "12/12 [==============================] - 0s 7ms/step - loss: 7.6573 - mae: 1.9834 - val_loss: 19.8642 - val_mae: 2.8791\n",
            "Epoch 116/200\n",
            "12/12 [==============================] - 0s 7ms/step - loss: 7.8688 - mae: 2.0201 - val_loss: 18.2305 - val_mae: 2.9283\n",
            "Epoch 117/200\n",
            "12/12 [==============================] - 0s 7ms/step - loss: 8.1487 - mae: 2.0982 - val_loss: 17.8017 - val_mae: 2.9269\n",
            "Epoch 118/200\n",
            "12/12 [==============================] - 0s 6ms/step - loss: 7.5450 - mae: 1.9194 - val_loss: 19.5277 - val_mae: 2.8718\n",
            "Epoch 119/200\n",
            "12/12 [==============================] - 0s 6ms/step - loss: 6.8445 - mae: 1.9276 - val_loss: 19.0328 - val_mae: 2.8716\n",
            "Epoch 120/200\n",
            "12/12 [==============================] - 0s 16ms/step - loss: 6.8542 - mae: 1.8758 - val_loss: 18.8860 - val_mae: 2.8353\n",
            "Epoch 121/200\n",
            "12/12 [==============================] - 0s 15ms/step - loss: 6.6868 - mae: 1.8485 - val_loss: 18.3615 - val_mae: 2.7888\n",
            "Epoch 122/200\n",
            "12/12 [==============================] - 0s 9ms/step - loss: 6.6569 - mae: 1.8590 - val_loss: 17.7243 - val_mae: 2.7686\n",
            "Epoch 123/200\n",
            "12/12 [==============================] - 0s 7ms/step - loss: 6.7465 - mae: 1.8561 - val_loss: 18.8408 - val_mae: 2.8479\n",
            "Epoch 124/200\n",
            "12/12 [==============================] - 0s 6ms/step - loss: 6.4431 - mae: 1.8138 - val_loss: 18.2553 - val_mae: 2.7972\n",
            "Epoch 125/200\n",
            "12/12 [==============================] - 0s 6ms/step - loss: 6.5592 - mae: 1.8270 - val_loss: 18.1237 - val_mae: 2.8187\n",
            "Epoch 126/200\n",
            "12/12 [==============================] - 0s 7ms/step - loss: 6.5231 - mae: 1.8288 - val_loss: 17.8562 - val_mae: 2.8119\n",
            "Epoch 127/200\n",
            "12/12 [==============================] - 0s 7ms/step - loss: 6.4657 - mae: 1.8234 - val_loss: 18.1592 - val_mae: 2.7825\n",
            "Epoch 128/200\n",
            "12/12 [==============================] - 0s 12ms/step - loss: 6.4436 - mae: 1.8254 - val_loss: 17.9415 - val_mae: 2.7861\n",
            "Epoch 129/200\n",
            "12/12 [==============================] - 0s 18ms/step - loss: 6.2444 - mae: 1.8031 - val_loss: 17.6645 - val_mae: 2.7738\n",
            "Epoch 130/200\n",
            "12/12 [==============================] - 0s 10ms/step - loss: 6.3103 - mae: 1.7947 - val_loss: 17.7563 - val_mae: 2.7808\n",
            "Epoch 131/200\n",
            "12/12 [==============================] - 0s 7ms/step - loss: 6.1735 - mae: 1.7908 - val_loss: 17.5318 - val_mae: 2.7769\n",
            "Epoch 132/200\n",
            "12/12 [==============================] - 0s 5ms/step - loss: 6.1831 - mae: 1.7968 - val_loss: 18.7462 - val_mae: 2.8425\n",
            "Epoch 133/200\n",
            "12/12 [==============================] - 0s 7ms/step - loss: 6.1929 - mae: 1.7939 - val_loss: 18.3208 - val_mae: 2.7845\n",
            "Epoch 134/200\n",
            "12/12 [==============================] - 0s 8ms/step - loss: 6.3051 - mae: 1.8199 - val_loss: 18.3551 - val_mae: 2.8378\n",
            "Epoch 135/200\n",
            "12/12 [==============================] - 0s 8ms/step - loss: 6.3350 - mae: 1.8407 - val_loss: 18.5142 - val_mae: 2.8285\n",
            "Epoch 136/200\n",
            "12/12 [==============================] - 0s 11ms/step - loss: 6.2578 - mae: 1.7990 - val_loss: 17.7146 - val_mae: 2.7942\n",
            "Epoch 137/200\n",
            "12/12 [==============================] - 1s 49ms/step - loss: 6.2416 - mae: 1.8125 - val_loss: 17.6495 - val_mae: 2.8389\n",
            "Epoch 138/200\n",
            "12/12 [==============================] - 0s 8ms/step - loss: 6.1493 - mae: 1.8011 - val_loss: 17.5810 - val_mae: 2.7715\n",
            "Epoch 139/200\n",
            "12/12 [==============================] - 0s 9ms/step - loss: 5.9887 - mae: 1.7671 - val_loss: 17.4333 - val_mae: 2.7989\n",
            "Epoch 140/200\n",
            "12/12 [==============================] - 0s 10ms/step - loss: 6.2404 - mae: 1.7864 - val_loss: 17.1918 - val_mae: 2.7778\n",
            "Epoch 141/200\n",
            "12/12 [==============================] - 0s 9ms/step - loss: 6.1879 - mae: 1.8217 - val_loss: 18.6769 - val_mae: 2.8792\n",
            "Epoch 142/200\n",
            "12/12 [==============================] - 0s 9ms/step - loss: 6.0419 - mae: 1.8035 - val_loss: 18.8690 - val_mae: 2.8672\n",
            "Epoch 143/200\n",
            "12/12 [==============================] - 0s 9ms/step - loss: 6.2802 - mae: 1.8316 - val_loss: 18.8592 - val_mae: 2.8639\n",
            "Epoch 144/200\n",
            "12/12 [==============================] - 0s 8ms/step - loss: 6.0831 - mae: 1.8063 - val_loss: 18.0472 - val_mae: 2.8126\n",
            "Epoch 145/200\n",
            "12/12 [==============================] - 0s 9ms/step - loss: 6.0883 - mae: 1.7915 - val_loss: 17.4168 - val_mae: 2.7909\n",
            "Epoch 146/200\n",
            "12/12 [==============================] - 0s 10ms/step - loss: 6.1667 - mae: 1.8135 - val_loss: 17.3252 - val_mae: 2.8413\n",
            "Epoch 147/200\n",
            "12/12 [==============================] - 0s 9ms/step - loss: 6.4875 - mae: 1.8809 - val_loss: 17.2788 - val_mae: 2.7834\n",
            "Epoch 148/200\n",
            "12/12 [==============================] - 0s 9ms/step - loss: 6.1427 - mae: 1.8810 - val_loss: 18.8906 - val_mae: 2.8888\n",
            "Epoch 149/200\n",
            "12/12 [==============================] - 0s 10ms/step - loss: 5.7003 - mae: 1.7445 - val_loss: 17.1581 - val_mae: 2.7579\n",
            "Epoch 150/200\n",
            "12/12 [==============================] - 0s 9ms/step - loss: 5.7097 - mae: 1.7421 - val_loss: 17.5611 - val_mae: 2.7885\n",
            "Epoch 151/200\n",
            "12/12 [==============================] - 0s 9ms/step - loss: 5.7854 - mae: 1.7511 - val_loss: 17.2244 - val_mae: 2.7769\n",
            "Epoch 152/200\n",
            "12/12 [==============================] - 0s 9ms/step - loss: 5.8641 - mae: 1.7621 - val_loss: 17.9209 - val_mae: 2.8364\n",
            "Epoch 153/200\n",
            "12/12 [==============================] - 0s 10ms/step - loss: 5.6276 - mae: 1.7424 - val_loss: 18.4515 - val_mae: 2.8522\n",
            "Epoch 154/200\n",
            "12/12 [==============================] - 0s 9ms/step - loss: 5.6068 - mae: 1.7210 - val_loss: 17.2851 - val_mae: 2.7864\n",
            "Epoch 155/200\n",
            "12/12 [==============================] - 0s 8ms/step - loss: 5.7641 - mae: 1.7536 - val_loss: 17.5891 - val_mae: 2.8048\n",
            "Epoch 156/200\n",
            "12/12 [==============================] - 0s 7ms/step - loss: 5.6270 - mae: 1.7338 - val_loss: 17.9625 - val_mae: 2.7900\n",
            "Epoch 157/200\n",
            "12/12 [==============================] - 0s 7ms/step - loss: 5.6679 - mae: 1.7336 - val_loss: 16.9649 - val_mae: 2.7570\n",
            "Epoch 158/200\n",
            "12/12 [==============================] - 0s 7ms/step - loss: 5.5959 - mae: 1.7234 - val_loss: 17.2529 - val_mae: 2.7904\n",
            "Epoch 159/200\n",
            "12/12 [==============================] - 0s 5ms/step - loss: 5.6261 - mae: 1.7495 - val_loss: 18.0514 - val_mae: 2.8258\n",
            "Epoch 160/200\n",
            "12/12 [==============================] - 0s 6ms/step - loss: 5.6960 - mae: 1.7789 - val_loss: 18.2873 - val_mae: 2.8207\n",
            "Epoch 161/200\n",
            "12/12 [==============================] - 0s 6ms/step - loss: 5.5495 - mae: 1.7196 - val_loss: 18.1131 - val_mae: 2.8477\n",
            "Epoch 162/200\n",
            "12/12 [==============================] - 0s 6ms/step - loss: 5.5564 - mae: 1.7020 - val_loss: 17.7400 - val_mae: 2.7976\n",
            "Epoch 163/200\n",
            "12/12 [==============================] - 0s 7ms/step - loss: 5.6509 - mae: 1.7651 - val_loss: 17.5025 - val_mae: 2.7933\n",
            "Epoch 164/200\n",
            "12/12 [==============================] - 0s 6ms/step - loss: 5.3249 - mae: 1.7005 - val_loss: 17.1804 - val_mae: 2.7657\n",
            "Epoch 165/200\n",
            "12/12 [==============================] - 0s 7ms/step - loss: 5.3987 - mae: 1.6988 - val_loss: 17.5191 - val_mae: 2.8018\n",
            "Epoch 166/200\n",
            "12/12 [==============================] - 0s 7ms/step - loss: 5.4284 - mae: 1.6906 - val_loss: 16.8218 - val_mae: 2.7694\n",
            "Epoch 167/200\n",
            "12/12 [==============================] - 0s 7ms/step - loss: 5.3728 - mae: 1.7155 - val_loss: 17.8676 - val_mae: 2.8162\n",
            "Epoch 168/200\n",
            "12/12 [==============================] - 0s 7ms/step - loss: 5.5453 - mae: 1.7404 - val_loss: 18.5353 - val_mae: 2.8505\n",
            "Epoch 169/200\n",
            "12/12 [==============================] - 0s 8ms/step - loss: 5.3674 - mae: 1.7161 - val_loss: 17.9056 - val_mae: 2.8251\n",
            "Epoch 170/200\n",
            "12/12 [==============================] - 0s 7ms/step - loss: 5.3976 - mae: 1.6979 - val_loss: 17.6735 - val_mae: 2.8002\n",
            "Epoch 171/200\n",
            "12/12 [==============================] - 0s 7ms/step - loss: 5.3866 - mae: 1.7165 - val_loss: 18.9858 - val_mae: 2.8700\n",
            "Epoch 172/200\n",
            "12/12 [==============================] - 0s 6ms/step - loss: 5.3278 - mae: 1.6976 - val_loss: 17.5758 - val_mae: 2.8155\n",
            "Epoch 173/200\n",
            "12/12 [==============================] - 0s 6ms/step - loss: 5.4040 - mae: 1.7201 - val_loss: 18.6833 - val_mae: 2.8610\n",
            "Epoch 174/200\n",
            "12/12 [==============================] - 0s 6ms/step - loss: 5.1079 - mae: 1.6745 - val_loss: 17.1200 - val_mae: 2.7759\n",
            "Epoch 175/200\n",
            "12/12 [==============================] - 0s 6ms/step - loss: 5.2112 - mae: 1.6711 - val_loss: 17.1378 - val_mae: 2.7951\n",
            "Epoch 176/200\n",
            "12/12 [==============================] - 0s 8ms/step - loss: 5.2047 - mae: 1.6747 - val_loss: 17.6190 - val_mae: 2.8047\n",
            "Epoch 177/200\n",
            "12/12 [==============================] - 0s 5ms/step - loss: 5.4881 - mae: 1.7532 - val_loss: 17.5426 - val_mae: 2.8222\n",
            "Epoch 178/200\n",
            "12/12 [==============================] - 0s 6ms/step - loss: 5.1250 - mae: 1.6713 - val_loss: 17.3042 - val_mae: 2.7941\n",
            "Epoch 179/200\n",
            "12/12 [==============================] - 0s 6ms/step - loss: 5.0692 - mae: 1.6627 - val_loss: 17.3373 - val_mae: 2.8078\n",
            "Epoch 180/200\n",
            "12/12 [==============================] - 0s 7ms/step - loss: 5.2910 - mae: 1.7070 - val_loss: 16.7740 - val_mae: 2.8111\n",
            "Epoch 181/200\n",
            "12/12 [==============================] - 0s 7ms/step - loss: 5.1441 - mae: 1.6841 - val_loss: 17.0005 - val_mae: 2.7765\n",
            "Epoch 182/200\n",
            "12/12 [==============================] - 0s 6ms/step - loss: 5.4215 - mae: 1.7245 - val_loss: 18.0212 - val_mae: 2.8517\n",
            "Epoch 183/200\n",
            "12/12 [==============================] - 0s 5ms/step - loss: 5.0487 - mae: 1.6478 - val_loss: 17.7837 - val_mae: 2.8317\n",
            "Epoch 184/200\n",
            "12/12 [==============================] - 0s 7ms/step - loss: 4.9607 - mae: 1.6617 - val_loss: 16.6750 - val_mae: 2.8188\n",
            "Epoch 185/200\n",
            "12/12 [==============================] - 0s 6ms/step - loss: 5.1046 - mae: 1.6696 - val_loss: 17.3402 - val_mae: 2.8190\n",
            "Epoch 186/200\n",
            "12/12 [==============================] - 0s 7ms/step - loss: 4.9086 - mae: 1.6408 - val_loss: 17.5035 - val_mae: 2.7980\n",
            "Epoch 187/200\n",
            "12/12 [==============================] - 0s 7ms/step - loss: 4.9918 - mae: 1.6505 - val_loss: 17.5118 - val_mae: 2.8098\n",
            "Epoch 188/200\n",
            "12/12 [==============================] - 0s 6ms/step - loss: 5.1588 - mae: 1.7065 - val_loss: 18.5071 - val_mae: 2.8942\n",
            "Epoch 189/200\n",
            "12/12 [==============================] - 0s 7ms/step - loss: 5.1091 - mae: 1.7084 - val_loss: 17.6990 - val_mae: 2.8042\n",
            "Epoch 190/200\n",
            "12/12 [==============================] - 0s 8ms/step - loss: 4.9693 - mae: 1.6326 - val_loss: 17.2786 - val_mae: 2.8246\n",
            "Epoch 191/200\n",
            "12/12 [==============================] - 0s 7ms/step - loss: 4.8685 - mae: 1.6385 - val_loss: 18.0928 - val_mae: 2.8440\n",
            "Epoch 192/200\n",
            "12/12 [==============================] - 0s 8ms/step - loss: 4.9364 - mae: 1.6593 - val_loss: 16.9140 - val_mae: 2.7743\n",
            "Epoch 193/200\n",
            "12/12 [==============================] - 0s 7ms/step - loss: 4.9661 - mae: 1.6600 - val_loss: 18.7123 - val_mae: 2.9364\n",
            "Epoch 194/200\n",
            "12/12 [==============================] - 0s 6ms/step - loss: 4.9313 - mae: 1.6501 - val_loss: 17.4040 - val_mae: 2.7980\n",
            "Epoch 195/200\n",
            "12/12 [==============================] - 0s 6ms/step - loss: 4.7655 - mae: 1.6092 - val_loss: 17.5472 - val_mae: 2.8160\n",
            "Epoch 196/200\n",
            "12/12 [==============================] - 0s 6ms/step - loss: 4.7423 - mae: 1.6357 - val_loss: 17.1439 - val_mae: 2.8616\n",
            "Epoch 197/200\n",
            "12/12 [==============================] - 0s 7ms/step - loss: 4.8906 - mae: 1.6479 - val_loss: 17.1397 - val_mae: 2.8153\n",
            "Epoch 198/200\n",
            "12/12 [==============================] - 0s 7ms/step - loss: 4.8227 - mae: 1.6420 - val_loss: 16.9444 - val_mae: 2.7715\n",
            "Epoch 199/200\n",
            "12/12 [==============================] - 0s 7ms/step - loss: 4.7671 - mae: 1.6298 - val_loss: 16.7857 - val_mae: 2.7822\n",
            "Epoch 200/200\n",
            "12/12 [==============================] - 0s 6ms/step - loss: 4.7786 - mae: 1.6116 - val_loss: 17.2227 - val_mae: 2.7825\n"
          ]
        }
      ]
    },
    {
      "cell_type": "markdown",
      "metadata": {
        "id": "mvlGXR3yVMYo"
      },
      "source": [
        "#### 1.6. Делаем предсказания на тестовых данных"
      ]
    },
    {
      "cell_type": "code",
      "source": [
        "preds = model.predict(X_test)\n",
        "X_test"
      ],
      "metadata": {
        "id": "Rui6kjT01jEA",
        "colab": {
          "base_uri": "https://localhost:8080/"
        },
        "outputId": "e7798bef-4fd7-4e57-a560-fcf2675cc639"
      },
      "execution_count": 6,
      "outputs": [
        {
          "output_type": "stream",
          "name": "stdout",
          "text": [
            "4/4 [==============================] - 0s 7ms/step\n"
          ]
        },
        {
          "output_type": "execute_result",
          "data": {
            "text/plain": [
              "array([[6.7240e-02, 0.0000e+00, 3.2400e+00, ..., 1.6900e+01, 3.7521e+02,\n",
              "        7.3400e+00],\n",
              "       [9.2323e+00, 0.0000e+00, 1.8100e+01, ..., 2.0200e+01, 3.6615e+02,\n",
              "        9.5300e+00],\n",
              "       [1.1425e-01, 0.0000e+00, 1.3890e+01, ..., 1.6400e+01, 3.9374e+02,\n",
              "        1.0500e+01],\n",
              "       ...,\n",
              "       [3.4940e-01, 0.0000e+00, 9.9000e+00, ..., 1.8400e+01, 3.9624e+02,\n",
              "        9.9700e+00],\n",
              "       [9.8490e-02, 0.0000e+00, 2.5650e+01, ..., 1.9100e+01, 3.7938e+02,\n",
              "        1.7580e+01],\n",
              "       [7.5030e-02, 3.3000e+01, 2.1800e+00, ..., 1.8400e+01, 3.9690e+02,\n",
              "        6.4700e+00]])"
            ]
          },
          "metadata": {},
          "execution_count": 6
        }
      ]
    },
    {
      "cell_type": "markdown",
      "metadata": {
        "id": "NLsmmLVkVhkL"
      },
      "source": [
        "#### 1.7. Вычисляем метрику качества на тестовых данных"
      ]
    },
    {
      "cell_type": "code",
      "source": [
        "from sklearn.metrics import mean_absolute_error\n",
        "\n",
        "error = mean_absolute_error(preds, y_test)\n",
        "print(error)"
      ],
      "metadata": {
        "id": "V8cpkQnr1jcS",
        "colab": {
          "base_uri": "https://localhost:8080/"
        },
        "outputId": "42a3014e-3f3d-4eb8-f7fb-7429e440514c"
      },
      "execution_count": 7,
      "outputs": [
        {
          "output_type": "stream",
          "name": "stdout",
          "text": [
            "7729.725923505166\n"
          ]
        }
      ]
    },
    {
      "cell_type": "markdown",
      "metadata": {
        "id": "d4eyitaoKx_E"
      },
      "source": [
        "#### 1.8. Строим график обучения"
      ]
    },
    {
      "cell_type": "code",
      "source": [
        "import matplotlib.pyplot as plt\n",
        "\n",
        "plt.plot(H.history[\"loss\"], label=\"loss\")\n",
        "plt.plot(H.history[\"val_loss\"], label=\"val_loss\")\n",
        "plt.legend()\n",
        "plt.show()"
      ],
      "metadata": {
        "id": "tw-JEpqm1jyK",
        "colab": {
          "base_uri": "https://localhost:8080/",
          "height": 430
        },
        "outputId": "e30c6546-88d9-4dc3-fe9b-dc7442176887"
      },
      "execution_count": 8,
      "outputs": [
        {
          "output_type": "display_data",
          "data": {
            "text/plain": [
              "<Figure size 640x480 with 1 Axes>"
            ],
            "image/png": "[encoded data removed]"
          },
          "metadata": {}
        }
      ]
    },
    {
      "cell_type": "markdown",
      "metadata": {
        "id": "XYMsbjaoMEqT"
      },
      "source": [
        "#### 1.9. Построение графического интерфейса в Gradio Проверка обученной модели пользовательскими данными"
      ]
    },
    {
      "cell_type": "code",
      "source": [
        "!pip install gradio"
      ],
      "metadata": {
        "id": "x-dyoItx2JN_",
        "colab": {
          "base_uri": "https://localhost:8080/"
        },
        "outputId": "fa64c233-cc00-4c5e-ea59-5fea84af2e39"
      },
      "execution_count": 9,
      "outputs": [
        {
          "output_type": "stream",
          "name": "stdout",
          "text": [
            "Collecting gradio\n",
            "  Downloading gradio-4.27.0-py3-none-any.whl (17.1 MB)\n",
            "\u001b[2K     \u001b[90m━━━━━━━━━━━━━━━━━━━━━━━━━━━━━━━━━━━━━━━━\u001b[0m \u001b[32m17.1/17.1 MB\u001b[0m \u001b[31m43.0 MB/s\u001b[0m eta \u001b[36m0:00:00\u001b[0m\n",
            "\u001b[?25hCollecting aiofiles<24.0,>=22.0 (from gradio)\n",
            "  Downloading aiofiles-23.2.1-py3-none-any.whl (15 kB)\n",
            "Requirement already satisfied: altair<6.0,>=4.2.0 in /usr/local/lib/python3.10/dist-packages (from gradio) (4.2.2)\n",
            "Collecting fastapi (from gradio)\n",
            "  Downloading fastapi-0.110.2-py3-none-any.whl (91 kB)\n",
            "\u001b[2K     \u001b[90m━━━━━━━━━━━━━━━━━━━━━━━━━━━━━━━━━━━━━━━━\u001b[0m \u001b[32m91.9/91.9 kB\u001b[0m \u001b[31m11.5 MB/s\u001b[0m eta \u001b[36m0:00:00\u001b[0m\n",
            "\u001b[?25hCollecting ffmpy (from gradio)\n",
            "  Downloading ffmpy-0.3.2.tar.gz (5.5 kB)\n",
            "  Preparing metadata (setup.py) ... \u001b[?25l\u001b[?25hdone\n",
            "Collecting gradio-client==0.15.1 (from gradio)\n",
            "  Downloading gradio_client-0.15.1-py3-none-any.whl (313 kB)\n",
            "\u001b[2K     \u001b[90m━━━━━━━━━━━━━━━━━━━━━━━━━━━━━━━━━━━━━━━━\u001b[0m \u001b[32m313.6/313.6 kB\u001b[0m \u001b[31m30.7 MB/s\u001b[0m eta \u001b[36m0:00:00\u001b[0m\n",
            "\u001b[?25hCollecting httpx>=0.24.1 (from gradio)\n",
            "  Downloading httpx-0.27.0-py3-none-any.whl (75 kB)\n",
            "\u001b[2K     \u001b[90m━━━━━━━━━━━━━━━━━━━━━━━━━━━━━━━━━━━━━━━━\u001b[0m \u001b[32m75.6/75.6 kB\u001b[0m \u001b[31m9.2 MB/s\u001b[0m eta \u001b[36m0:00:00\u001b[0m\n",
            "\u001b[?25hRequirement already satisfied: huggingface-hub>=0.19.3 in /usr/local/lib/python3.10/dist-packages (from gradio) (0.20.3)\n",
            "Requirement already satisfied: importlib-resources<7.0,>=1.3 in /usr/local/lib/python3.10/dist-packages (from gradio) (6.4.0)\n",
            "Requirement already satisfied: jinja2<4.0 in /usr/local/lib/python3.10/dist-packages (from gradio) (3.1.3)\n",
            "Requirement already satisfied: markupsafe~=2.0 in /usr/local/lib/python3.10/dist-packages (from gradio) (2.1.5)\n",
            "Requirement already satisfied: matplotlib~=3.0 in /usr/local/lib/python3.10/dist-packages (from gradio) (3.7.1)\n",
            "Requirement already satisfied: numpy~=1.0 in /usr/local/lib/python3.10/dist-packages (from gradio) (1.25.2)\n",
            "Collecting orjson~=3.0 (from gradio)\n",
            "  Downloading orjson-3.10.1-cp310-cp310-manylinux_2_17_x86_64.manylinux2014_x86_64.whl (141 kB)\n",
            "\u001b[2K     \u001b[90m━━━━━━━━━━━━━━━━━━━━━━━━━━━━━━━━━━━━━━━━\u001b[0m \u001b[32m141.1/141.1 kB\u001b[0m \u001b[31m11.0 MB/s\u001b[0m eta \u001b[36m0:00:00\u001b[0m\n",
            "\u001b[?25hRequirement already satisfied: packaging in /usr/local/lib/python3.10/dist-packages (from gradio) (24.0)\n",
            "Requirement already satisfied: pandas<3.0,>=1.0 in /usr/local/lib/python3.10/dist-packages (from gradio) (2.0.3)\n",
            "Requirement already satisfied: pillow<11.0,>=8.0 in /usr/local/lib/python3.10/dist-packages (from gradio) (9.4.0)\n",
            "Requirement already satisfied: pydantic>=2.0 in /usr/local/lib/python3.10/dist-packages (from gradio) (2.7.0)\n",
            "Collecting pydub (from gradio)\n",
            "  Downloading pydub-0.25.1-py2.py3-none-any.whl (32 kB)\n",
            "Collecting python-multipart>=0.0.9 (from gradio)\n",
            "  Downloading python_multipart-0.0.9-py3-none-any.whl (22 kB)\n",
            "Requirement already satisfied: pyyaml<7.0,>=5.0 in /usr/local/lib/python3.10/dist-packages (from gradio) (6.0.1)\n",
            "Collecting ruff>=0.2.2 (from gradio)\n",
            "  Downloading ruff-0.4.1-py3-none-manylinux_2_17_x86_64.manylinux2014_x86_64.whl (8.7 MB)\n",
            "\u001b[2K     \u001b[90m━━━━━━━━━━━━━━━━━━━━━━━━━━━━━━━━━━━━━━━━\u001b[0m \u001b[32m8.7/8.7 MB\u001b[0m \u001b[31m73.7 MB/s\u001b[0m eta \u001b[36m0:00:00\u001b[0m\n",
            "\u001b[?25hCollecting semantic-version~=2.0 (from gradio)\n",
            "  Downloading semantic_version-2.10.0-py2.py3-none-any.whl (15 kB)\n",
            "Collecting tomlkit==0.12.0 (from gradio)\n",
            "  Downloading tomlkit-0.12.0-py3-none-any.whl (37 kB)\n",
            "Collecting typer<1.0,>=0.12 (from gradio)\n",
            "  Downloading typer-0.12.3-py3-none-any.whl (47 kB)\n",
            "\u001b[2K     \u001b[90m━━━━━━━━━━━━━━━━━━━━━━━━━━━━━━━━━━━━━━━━\u001b[0m \u001b[32m47.2/47.2 kB\u001b[0m \u001b[31m5.9 MB/s\u001b[0m eta \u001b[36m0:00:00\u001b[0m\n",
            "\u001b[?25hRequirement already satisfied: typing-extensions~=4.0 in /usr/local/lib/python3.10/dist-packages (from gradio) (4.11.0)\n",
            "Requirement already satisfied: urllib3~=2.0 in /usr/local/lib/python3.10/dist-packages (from gradio) (2.0.7)\n",
            "Collecting uvicorn>=0.14.0 (from gradio)\n",
            "  Downloading uvicorn-0.29.0-py3-none-any.whl (60 kB)\n",
            "\u001b[2K     \u001b[90m━━━━━━━━━━━━━━━━━━━━━━━━━━━━━━━━━━━━━━━━\u001b[0m \u001b[32m60.8/60.8 kB\u001b[0m \u001b[31m6.2 MB/s\u001b[0m eta \u001b[36m0:00:00\u001b[0m\n",
            "\u001b[?25hRequirement already satisfied: fsspec in /usr/local/lib/python3.10/dist-packages (from gradio-client==0.15.1->gradio) (2023.6.0)\n",
            "Collecting websockets<12.0,>=10.0 (from gradio-client==0.15.1->gradio)\n",
            "  Downloading websockets-11.0.3-cp310-cp310-manylinux_2_5_x86_64.manylinux1_x86_64.manylinux_2_17_x86_64.manylinux2014_x86_64.whl (129 kB)\n",
            "\u001b[2K     \u001b[90m━━━━━━━━━━━━━━━━━━━━━━━━━━━━━━━━━━━━━━━━\u001b[0m \u001b[32m129.9/129.9 kB\u001b[0m \u001b[31m17.4 MB/s\u001b[0m eta \u001b[36m0:00:00\u001b[0m\n",
            "\u001b[?25hRequirement already satisfied: entrypoints in /usr/local/lib/python3.10/dist-packages (from altair<6.0,>=4.2.0->gradio) (0.4)\n",
            "Requirement already satisfied: jsonschema>=3.0 in /usr/local/lib/python3.10/dist-packages (from altair<6.0,>=4.2.0->gradio) (4.19.2)\n",
            "Requirement already satisfied: toolz in /usr/local/lib/python3.10/dist-packages (from altair<6.0,>=4.2.0->gradio) (0.12.1)\n",
            "Requirement already satisfied: anyio in /usr/local/lib/python3.10/dist-packages (from httpx>=0.24.1->gradio) (3.7.1)\n",
            "Requirement already satisfied: certifi in /usr/local/lib/python3.10/dist-packages (from httpx>=0.24.1->gradio) (2024.2.2)\n",
            "Collecting httpcore==1.* (from httpx>=0.24.1->gradio)\n",
            "  Downloading httpcore-1.0.5-py3-none-any.whl (77 kB)\n",
            "\u001b[2K     \u001b[90m━━━━━━━━━━━━━━━━━━━━━━━━━━━━━━━━━━━━━━━━\u001b[0m \u001b[32m77.9/77.9 kB\u001b[0m \u001b[31m11.3 MB/s\u001b[0m eta \u001b[36m0:00:00\u001b[0m\n",
            "\u001b[?25hRequirement already satisfied: idna in /usr/local/lib/python3.10/dist-packages (from httpx>=0.24.1->gradio) (3.7)\n",
            "Requirement already satisfied: sniffio in /usr/local/lib/python3.10/dist-packages (from httpx>=0.24.1->gradio) (1.3.1)\n",
            "Collecting h11<0.15,>=0.13 (from httpcore==1.*->httpx>=0.24.1->gradio)\n",
            "  Downloading h11-0.14.0-py3-none-any.whl (58 kB)\n",
            "\u001b[2K     \u001b[90m━━━━━━━━━━━━━━━━━━━━━━━━━━━━━━━━━━━━━━━━\u001b[0m \u001b[32m58.3/58.3 kB\u001b[0m \u001b[31m5.1 MB/s\u001b[0m eta \u001b[36m0:00:00\u001b[0m\n",
            "\u001b[?25hRequirement already satisfied: filelock in /usr/local/lib/python3.10/dist-packages (from huggingface-hub>=0.19.3->gradio) (3.13.4)\n",
            "Requirement already satisfied: requests in /usr/local/lib/python3.10/dist-packages (from huggingface-hub>=0.19.3->gradio) (2.31.0)\n",
            "Requirement already satisfied: tqdm>=4.42.1 in /usr/local/lib/python3.10/dist-packages (from huggingface-hub>=0.19.3->gradio) (4.66.2)\n",
            "Requirement already satisfied: contourpy>=1.0.1 in /usr/local/lib/python3.10/dist-packages (from matplotlib~=3.0->gradio) (1.2.1)\n",
            "Requirement already satisfied: cycler>=0.10 in /usr/local/lib/python3.10/dist-packages (from matplotlib~=3.0->gradio) (0.12.1)\n",
            "Requirement already satisfied: fonttools>=4.22.0 in /usr/local/lib/python3.10/dist-packages (from matplotlib~=3.0->gradio) (4.51.0)\n",
            "Requirement already satisfied: kiwisolver>=1.0.1 in /usr/local/lib/python3.10/dist-packages (from matplotlib~=3.0->gradio) (1.4.5)\n",
            "Requirement already satisfied: pyparsing>=2.3.1 in /usr/local/lib/python3.10/dist-packages (from matplotlib~=3.0->gradio) (3.1.2)\n",
            "Requirement already satisfied: python-dateutil>=2.7 in /usr/local/lib/python3.10/dist-packages (from matplotlib~=3.0->gradio) (2.8.2)\n",
            "Requirement already satisfied: pytz>=2020.1 in /usr/local/lib/python3.10/dist-packages (from pandas<3.0,>=1.0->gradio) (2023.4)\n",
            "Requirement already satisfied: tzdata>=2022.1 in /usr/local/lib/python3.10/dist-packages (from pandas<3.0,>=1.0->gradio) (2024.1)\n",
            "Requirement already satisfied: annotated-types>=0.4.0 in /usr/local/lib/python3.10/dist-packages (from pydantic>=2.0->gradio) (0.6.0)\n",
            "Requirement already satisfied: pydantic-core==2.18.1 in /usr/local/lib/python3.10/dist-packages (from pydantic>=2.0->gradio) (2.18.1)\n",
            "Requirement already satisfied: click>=8.0.0 in /usr/local/lib/python3.10/dist-packages (from typer<1.0,>=0.12->gradio) (8.1.7)\n",
            "Collecting shellingham>=1.3.0 (from typer<1.0,>=0.12->gradio)\n",
            "  Downloading shellingham-1.5.4-py2.py3-none-any.whl (9.8 kB)\n",
            "Requirement already satisfied: rich>=10.11.0 in /usr/local/lib/python3.10/dist-packages (from typer<1.0,>=0.12->gradio) (13.7.1)\n",
            "Collecting starlette<0.38.0,>=0.37.2 (from fastapi->gradio)\n",
            "  Downloading starlette-0.37.2-py3-none-any.whl (71 kB)\n",
            "\u001b[2K     \u001b[90m━━━━━━━━━━━━━━━━━━━━━━━━━━━━━━━━━━━━━━━━\u001b[0m \u001b[32m71.9/71.9 kB\u001b[0m \u001b[31m9.9 MB/s\u001b[0m eta \u001b[36m0:00:00\u001b[0m\n",
            "\u001b[?25hRequirement already satisfied: attrs>=22.2.0 in /usr/local/lib/python3.10/dist-packages (from jsonschema>=3.0->altair<6.0,>=4.2.0->gradio) (23.2.0)\n",
            "Requirement already satisfied: jsonschema-specifications>=2023.03.6 in /usr/local/lib/python3.10/dist-packages (from jsonschema>=3.0->altair<6.0,>=4.2.0->gradio) (2023.12.1)\n",
            "Requirement already satisfied: referencing>=0.28.4 in /usr/local/lib/python3.10/dist-packages (from jsonschema>=3.0->altair<6.0,>=4.2.0->gradio) (0.34.0)\n",
            "Requirement already satisfied: rpds-py>=0.7.1 in /usr/local/lib/python3.10/dist-packages (from jsonschema>=3.0->altair<6.0,>=4.2.0->gradio) (0.18.0)\n",
            "Requirement already satisfied: six>=1.5 in /usr/local/lib/python3.10/dist-packages (from python-dateutil>=2.7->matplotlib~=3.0->gradio) (1.16.0)\n",
            "Requirement already satisfied: markdown-it-py>=2.2.0 in /usr/local/lib/python3.10/dist-packages (from rich>=10.11.0->typer<1.0,>=0.12->gradio) (3.0.0)\n",
            "Requirement already satisfied: pygments<3.0.0,>=2.13.0 in /usr/local/lib/python3.10/dist-packages (from rich>=10.11.0->typer<1.0,>=0.12->gradio) (2.16.1)\n",
            "Requirement already satisfied: exceptiongroup in /usr/local/lib/python3.10/dist-packages (from anyio->httpx>=0.24.1->gradio) (1.2.0)\n",
            "Requirement already satisfied: charset-normalizer<4,>=2 in /usr/local/lib/python3.10/dist-packages (from requests->huggingface-hub>=0.19.3->gradio) (3.3.2)\n",
            "Requirement already satisfied: mdurl~=0.1 in /usr/local/lib/python3.10/dist-packages (from markdown-it-py>=2.2.0->rich>=10.11.0->typer<1.0,>=0.12->gradio) (0.1.2)\n",
            "Building wheels for collected packages: ffmpy\n",
            "  Building wheel for ffmpy (setup.py) ... \u001b[?25l\u001b[?25hdone\n",
            "  Created wheel for ffmpy: filename=ffmpy-0.3.2-py3-none-any.whl size=5584 sha256=1d85021c1e1b8cb641607d4097917615c1b4f20776c89382af4e1c7e320e7de4\n",
            "  Stored in directory: /root/.cache/pip/wheels/bd/65/9a/671fc6dcde07d4418df0c592f8df512b26d7a0029c2a23dd81\n",
            "Successfully built ffmpy\n",
            "Installing collected packages: pydub, ffmpy, websockets, tomlkit, shellingham, semantic-version, ruff, python-multipart, orjson, h11, aiofiles, uvicorn, starlette, httpcore, typer, httpx, fastapi, gradio-client, gradio\n",
            "  Attempting uninstall: typer\n",
            "    Found existing installation: typer 0.9.4\n",
            "    Uninstalling typer-0.9.4:\n",
            "      Successfully uninstalled typer-0.9.4\n",
            "\u001b[31mERROR: pip's dependency resolver does not currently take into account all the packages that are installed. This behaviour is the source of the following dependency conflicts.\n",
            "spacy 3.7.4 requires typer<0.10.0,>=0.3.0, but you have typer 0.12.3 which is incompatible.\n",
            "weasel 0.3.4 requires typer<0.10.0,>=0.3.0, but you have typer 0.12.3 which is incompatible.\u001b[0m\u001b[31m\n",
            "\u001b[0mSuccessfully installed aiofiles-23.2.1 fastapi-0.110.2 ffmpy-0.3.2 gradio-4.27.0 gradio-client-0.15.1 h11-0.14.0 httpcore-1.0.5 httpx-0.27.0 orjson-3.10.1 pydub-0.25.1 python-multipart-0.0.9 ruff-0.4.1 semantic-version-2.10.0 shellingham-1.5.4 starlette-0.37.2 tomlkit-0.12.0 typer-0.12.3 uvicorn-0.29.0 websockets-11.0.3\n"
          ]
        }
      ]
    },
    {
      "cell_type": "markdown",
      "source": [
        "#### 2. Проверка обученной модели пользовательскими данными"
      ],
      "metadata": {
        "id": "8UQpi9te2D4J"
      }
    },
    {
      "cell_type": "code",
      "source": [
        "import gradio as gr\n",
        "\n",
        "def preprocess_input(features, scale_model=\"scaler.pkl\"):\n",
        "  try:\n",
        "    # Преобразование в NumPy массив\n",
        "    features = np.array(features)\n",
        "\n",
        "    # Проверка на пустой массив\n",
        "    if not features.size:\n",
        "      raise ValueError(\"Пустой массив признаков!\")\n",
        "\n",
        "    # Изменение размерности массива (8,) -> (1, 8)\n",
        "    features = features.reshape(1, -1)\n",
        "\n",
        "    # Загрузка модели масштабирования\n",
        "    with open(scale_model, \"rb\") as f:\n",
        "      scaler = pickle.load(f)\n",
        "\n",
        "    # Масштабирование признаков\n",
        "    features = scaler.transform(features)\n",
        "\n",
        "  except Exception as e:\n",
        "    raise ValueError(f\"Ошибка при предобработке: {e}\")\n",
        "\n",
        "  return features\n",
        "\n",
        "def predict_price(*features):\n",
        "  try:\n",
        "    features = preprocess_input(features)\n",
        "\n",
        "    prediction = model.predict(features, verbose=0)\n",
        "\n",
        "    # Проверка на ошибки прогнозирования\n",
        "    if np.isnan(prediction).any():\n",
        "      raise ValueError(\"Ошибка при прогнозировании: NaN\")\n",
        "\n",
        "  except Exception as e:\n",
        "    raise ValueError(f\"Ошибка при прогнозировании: {e}\")\n",
        "\n",
        "  # Возвращение прогнозируемой цены\n",
        "  # (умножение на 1000 для отображения в тысячах долларов)\n",
        "  return prediction[0][0]\n",
        "\n",
        "# Интерфейс Gradio\n",
        "interface = gr.Interface(\n",
        "    fn=predict_price,\n",
        "    inputs=[\n",
        "        gr.Slider(label=\"CRIM\", minimum=0, maximum=100, step=0.1, value=X_train[0][0]),\n",
        "        gr.Slider(label=\"ZN\", minimum=0, maximum=100, step=0.1, value=X_train[0][1]),\n",
        "        gr.Slider(label=\"INDUS\", minimum=0, maximum=100, step=0.1, value=X_train[0][2]),\n",
        "        gr.Slider(label=\"CHAS\", minimum=0, maximum=1, step=1, value=X_train[0][3]),\n",
        "        gr.Slider(label=\"NOX\", minimum=0, maximum=10, step=0.1, value=X_train[0][4]),\n",
        "        gr.Slider(label=\"RM\", minimum=0, maximum=50, step=0.001, value=X_train[0][5]),\n",
        "        gr.Slider(label=\"AGE\", minimum=0, maximum=100, step=0.1, value=X_train[0][6]),\n",
        "        gr.Slider(label=\"DIS\", minimum=0, maximum=1000, step=0.10, value=X_train[0][7]),\n",
        "        gr.Slider(label=\"RAD\", minimum=0, maximum=1000, step=0.10, value=X_train[0][8]),\n",
        "        gr.Slider(label=\"TAX\", minimum=0, maximum=10000, step=1, value=X_train[0][9]),\n",
        "        gr.Slider(label=\"PTRATIO\", minimum=0, maximum=100, step=1, value=X_train[0][10]),\n",
        "        gr.Slider(label=\"B\", minimum=0, maximum=1000, step=0.1, value=X_train[0][11]),\n",
        "        gr.Slider(label=\"LSTAT\", minimum=0, maximum=1000, step=0.1, value=X_train[0][12])\n",
        "    ],\n",
        "    # Обновление при каждом изменении\n",
        "    live=True,\n",
        "    outputs=gr.Text(label=\"Predicted Price ($)\"),\n",
        ")\n",
        "\n",
        "# Запуск интерфейса\n",
        "interface.launch(debug=False, share=True)"
      ],
      "metadata": {
        "id": "9aohXWhb2Jjh",
        "colab": {
          "base_uri": "https://localhost:8080/",
          "height": 611
        },
        "outputId": "3aabed60-15be-4334-8a50-e42b30bd35e3"
      },
      "execution_count": 10,
      "outputs": [
        {
          "output_type": "stream",
          "name": "stdout",
          "text": [
            "Colab notebook detected. To show errors in colab notebook, set debug=True in launch()\n",
            "Running on public URL: https://6219afcb0bd3e7f33a.gradio.live\n",
            "\n",
            "This share link expires in 72 hours. For free permanent hosting and GPU upgrades, run `gradio deploy` from Terminal to deploy to Spaces (https://huggingface.co/spaces)\n"
          ]
        },
        {
          "output_type": "display_data",
          "data": {
            "text/plain": [
              "<IPython.core.display.HTML object>"
            ],
            "text/html": [
              "<div><iframe src=\"https://6219afcb0bd3e7f33a.gradio.live\" width=\"100%\" height=\"500\" allow=\"autoplay; camera; microphone; clipboard-read; clipboard-write;\" frameborder=\"0\" allowfullscreen></iframe></div>"
            ]
          },
          "metadata": {}
        },
        {
          "output_type": "execute_result",
          "data": {
            "text/plain": []
          },
          "metadata": {},
          "execution_count": 10
        }
      ]
    },
    {
      "cell_type": "markdown",
      "source": [
        "## Задание №2.Обучение модели ИНС для решения задачи классификации\n",
        "\n"
      ],
      "metadata": {
        "id": "DQQMXC8garr3"
      }
    },
    {
      "cell_type": "markdown",
      "source": [
        "Порядок работы:"
      ],
      "metadata": {
        "id": "1OAwSdaG36Ip"
      }
    },
    {
      "cell_type": "markdown",
      "source": [
        "* 1. Собрать датасет из изображений, соответствующих не менее, чем 3 классам объектов (в\n",
        "примере с пары были кошки, собаки и панды).\n"
      ],
      "metadata": {
        "id": "q8COT3YubK-X"
      }
    },
    {
      "cell_type": "markdown",
      "source": [
        "- 2. Для каждого класса должно быть собрано не менее 1000 изображений. Количество\n",
        "изображений для каждого класса должно быть одинаковым.\n",
        "Готовые датасеты можно скачать отсюда: https://www.kaggle.com/\n"
      ],
      "metadata": {
        "id": "YstDH7J2bM5F"
      }
    },
    {
      "cell_type": "markdown",
      "source": [
        "- 3. Обучить модель глубокой нейронной сети для решения задачи классификации\n",
        "изображений, по выбранным Вами классам. (В качестве примера приведён код с пары)\n",
        "В конечном итоге Вы должны сохранить обученную модель для классификации\n",
        "изображений, соответствующих тем классам, которые Вы выбрали, а затем воспользоваться этой моделью для предсказания классов на пользовательских изображениях.\n",
        "\n"
      ],
      "metadata": {
        "id": "9aTvc3A4bN_h"
      }
    },
    {
      "cell_type": "markdown",
      "source": [
        "> При выполнении заданий пробуйте использовать разные функции потерь,\n",
        "методы оптимизации, функции активации и метрики ошибок."
      ],
      "metadata": {
        "id": "yKU34aHabUfp"
      }
    },
    {
      "cell_type": "markdown",
      "source": [
        "### 1. Устанавливаем зависимости:"
      ],
      "metadata": {
        "id": "l8zEG_g8O-Ge"
      }
    },
    {
      "cell_type": "code",
      "execution_count": 11,
      "metadata": {
        "id": "sh6kN7IMO8de"
      },
      "outputs": [],
      "source": [
        "# Импортируем LabelBinarizer для преобразования текстовых меток в векторы\n",
        "# (например, \"кошка\" -> [1, 0, 0], \"собака\" -> [0, 1, 0], \"панда\" -> [0, 0, 1])\n",
        "from sklearn.preprocessing import LabelBinarizer\n",
        "\n",
        "# Импортируем train_test_split для разделения данных на обучающую и тестовую выборки\n",
        "from sklearn.model_selection import train_test_split\n",
        "\n",
        "# Импортируем classification_report для оценки качества классификации\n",
        "from sklearn.metrics import classification_report\n",
        "\n",
        "# Импортируем Sequential для создания последовательной модели нейронной сети\n",
        "from keras.models import Sequential\n",
        "\n",
        "# Импортируем Dense для создания плотных слоев нейронной сети\n",
        "from keras.layers import Dense\n",
        "\n",
        "# Импортируем SGD и Adam для оптимизации обучения нейронной сети\n",
        "from keras.optimizers import SGD, Adam\n",
        "\n",
        "# Импортируем paths из imutils для удобной работы с путями к изображениям\n",
        "from imutils import paths\n",
        "\n",
        "# Импортируем pyplot из matplotlib для визуализации данных\n",
        "import matplotlib.pyplot as plt\n",
        "\n",
        "# Импортируем numpy для работы с массивами данных\n",
        "import numpy as np\n",
        "\n",
        "# Импортируем random для генерации случайных чисел\n",
        "import random\n",
        "\n",
        "# Импортируем pickle для сериализации и десериализации данных\n",
        "import pickle\n",
        "\n",
        "# Импортируем cv2 для работы с изображениями\n",
        "import cv2\n",
        "\n",
        "# Импортируем os для работы с файловой системой\n",
        "import os\n",
        "\n",
        "# Импортируем cv2_imshow из google.colab.patches для отображения изображений в Colab\n",
        "from google.colab.patches import cv2_imshow"
      ]
    },
    {
      "cell_type": "markdown",
      "source": [
        "### 2. Загружаем набор данных:"
      ],
      "metadata": {
        "id": "aJextk3pO8Ko"
      }
    },
    {
      "cell_type": "code",
      "execution_count": 12,
      "metadata": {
        "id": "ZQOhPesK2-J8",
        "colab": {
          "base_uri": "https://localhost:8080/"
        },
        "outputId": "e5e397f9-866d-4ad2-b419-12a785030150"
      },
      "outputs": [
        {
          "output_type": "stream",
          "name": "stdout",
          "text": [
            "Collecting wldhx.yadisk-direct\n",
            "  Downloading wldhx.yadisk_direct-0.0.6-py3-none-any.whl (4.5 kB)\n",
            "Requirement already satisfied: requests in /usr/local/lib/python3.10/dist-packages (from wldhx.yadisk-direct) (2.31.0)\n",
            "Requirement already satisfied: charset-normalizer<4,>=2 in /usr/local/lib/python3.10/dist-packages (from requests->wldhx.yadisk-direct) (3.3.2)\n",
            "Requirement already satisfied: idna<4,>=2.5 in /usr/local/lib/python3.10/dist-packages (from requests->wldhx.yadisk-direct) (3.7)\n",
            "Requirement already satisfied: urllib3<3,>=1.21.1 in /usr/local/lib/python3.10/dist-packages (from requests->wldhx.yadisk-direct) (2.0.7)\n",
            "Requirement already satisfied: certifi>=2017.4.17 in /usr/local/lib/python3.10/dist-packages (from requests->wldhx.yadisk-direct) (2024.2.2)\n",
            "Installing collected packages: wldhx.yadisk-direct\n",
            "Successfully installed wldhx.yadisk-direct-0.0.6\n",
            "  % Total    % Received % Xferd  Average Speed   Time    Time     Time  Current\n",
            "                                 Dload  Upload   Total   Spent    Left  Speed\n",
            "  0     0    0     0    0     0      0      0 --:--:--  0:00:01 --:--:--     0\n",
            "100 75.4M  100 75.4M    0     0  9290k      0  0:00:08  0:00:08 --:--:-- 16.2M\n"
          ]
        }
      ],
      "source": [
        "#https://www.kaggle.com/models/google/gemma/frameworks/keras\n",
        "\n",
        "! pip install wldhx.yadisk-direct\n",
        "! curl -L $(yadisk-direct https://disk.yandex.ru/d/rbbx1TrOSYZLcA) -o raw-img.zip\n",
        "! unzip -o -qq raw-img.zip"
      ]
    },
    {
      "cell_type": "markdown",
      "source": [
        "### 3. Указываем путь к набору данных:"
      ],
      "metadata": {
        "id": "pX1km_kyV2Ka"
      }
    },
    {
      "cell_type": "code",
      "execution_count": 13,
      "metadata": {
        "id": "hAqtXKu62-bU",
        "colab": {
          "base_uri": "https://localhost:8080/"
        },
        "outputId": "233b4a17-9344-4d5f-a547-0f8c34b1ca72"
      },
      "outputs": [
        {
          "output_type": "execute_result",
          "data": {
            "text/plain": [
              "4539"
            ]
          },
          "metadata": {},
          "execution_count": 13
        }
      ],
      "source": [
        "import glob\n",
        "\n",
        "image_paths = []\n",
        "for folder_path in glob.glob('/content/raw-img/*'):\n",
        "    image_paths.extend(glob.glob(folder_path + '/*.jpeg'))\n",
        "\n",
        "random.shuffle(sorted(image_paths))\n",
        "len(image_paths)"
      ]
    },
    {
      "cell_type": "markdown",
      "source": [
        "### 4. Загружаем набор данных и формируем общую выборку:"
      ],
      "metadata": {
        "id": "sAYZPzKSVobq"
      }
    },
    {
      "cell_type": "code",
      "execution_count": 14,
      "metadata": {
        "id": "1dqs5r-92-x7"
      },
      "outputs": [],
      "source": [
        "def load_images(imagePaths, compression_size = 32):\n",
        "\n",
        "  data = []\n",
        "  labels = []\n",
        "\n",
        "  for imagePath in imagePaths:\n",
        "    # Загрузка изображения\n",
        "    image = cv2.imread(imagePath)\n",
        "\n",
        "    # Изменение разрешения изображения (по умолчанию 32х32х3 -> 3072,)\n",
        "    image = cv2.resize(image, (compression_size, compression_size)).flatten()\n",
        "\n",
        "    # Добавление изображения в список\n",
        "    data.append(image)\n",
        "\n",
        "    # Извлечение метки класса из пути к изображению\n",
        "    label = imagePath.split(os.path.sep)[-2]\n",
        "\n",
        "    # Добавление метки в список\n",
        "    labels.append(label)\n",
        "\n",
        "  return data, labels"
      ]
    },
    {
      "cell_type": "code",
      "source": [
        "compression_size = 32\n",
        "data, labels = load_images(image_paths,  32)"
      ],
      "metadata": {
        "id": "ytrCP0C0BHtH"
      },
      "execution_count": 15,
      "outputs": []
    },
    {
      "cell_type": "markdown",
      "source": [
        "#### 4.1. Нормализуем данные:"
      ],
      "metadata": {
        "id": "yeiILoUSXn4c"
      }
    },
    {
      "cell_type": "markdown",
      "source": [
        "Масштабируем интенсивности пикселей в диапазон [0, 1], а также преобразуем данные в массивы NumPy для повышения производительности\n"
      ],
      "metadata": {
        "id": "PceSnJBEZDPm"
      }
    },
    {
      "cell_type": "code",
      "execution_count": 16,
      "metadata": {
        "id": "wejqgr9U2_hf"
      },
      "outputs": [],
      "source": [
        "data = np.array(data, dtype=\"float\") / 255.0\n",
        "labels = np.array(labels)"
      ]
    },
    {
      "cell_type": "markdown",
      "source": [
        "#### 4.2. Формируем обучающую и валидационную выборки:"
      ],
      "metadata": {
        "id": "lREm4zIRaSsx"
      }
    },
    {
      "cell_type": "markdown",
      "source": [
        "Разделяем данные на обучающую и валидационную выборки, используя 75% данных для обучения и оставшиеся 25% для валидации"
      ],
      "metadata": {
        "id": "lwTSSQkPa9oI"
      }
    },
    {
      "cell_type": "code",
      "execution_count": 17,
      "metadata": {
        "id": "R23UTovQ3A7R"
      },
      "outputs": [],
      "source": [
        "(X_train, X_val, Y_train, Y_val) = train_test_split(data, labels, test_size=0.25, random_state=42)"
      ]
    },
    {
      "cell_type": "code",
      "source": [
        "lb = LabelBinarizer()\n",
        "Y_train = lb.fit_transform(Y_train)\n",
        "Y_val = lb.transform(Y_val)\n",
        "\n",
        "print(Y_train.shape, Y_val.shape)\n",
        "print(X_train.shape, X_val.shape)"
      ],
      "metadata": {
        "colab": {
          "base_uri": "https://localhost:8080/"
        },
        "id": "vp_PAheVBQT_",
        "outputId": "59b37a62-f0a1-4a0e-8642-4e37346e0709"
      },
      "execution_count": 18,
      "outputs": [
        {
          "output_type": "stream",
          "name": "stdout",
          "text": [
            "(3404, 3) (1135, 3)\n",
            "(3404, 3072) (1135, 3072)\n"
          ]
        }
      ]
    },
    {
      "cell_type": "markdown",
      "source": [
        "### 5. Создание модели:"
      ],
      "metadata": {
        "id": "Sz33nCuvc3Pk"
      }
    },
    {
      "cell_type": "markdown",
      "source": [
        "#### 5.1. Определим архитектуру модели с помощью Keras:"
      ],
      "metadata": {
        "id": "r2mcOGxEc-uB"
      }
    },
    {
      "cell_type": "code",
      "execution_count": 19,
      "metadata": {
        "id": "nj_bAWxv3B0B"
      },
      "outputs": [],
      "source": [
        "input_shape = (compression_size * compression_size * 3,)"
      ]
    },
    {
      "cell_type": "markdown",
      "source": [
        "#### 5.2. Установим значение параметров скорости обучения и общего числа эпох\n"
      ],
      "metadata": {
        "id": "HHFTdcCkg1Wr"
      }
    },
    {
      "cell_type": "code",
      "execution_count": 20,
      "metadata": {
        "id": "pzlpLmGm3CMU"
      },
      "outputs": [],
      "source": [
        "model = Sequential()\n",
        "model.add(Dense(32396, input_shape=input_shape, activation=\"relu\"))\n",
        "model.add(Dense(1024, activation=\"relu\"))\n",
        "model.add(Dense(len(lb.classes_), activation=\"softmax\"))"
      ]
    },
    {
      "cell_type": "markdown",
      "source": [
        "#### 5.3. Компилируем модель:"
      ],
      "metadata": {
        "id": "YaDdd2wphXLv"
      }
    },
    {
      "cell_type": "code",
      "execution_count": 21,
      "metadata": {
        "id": "3mxDQXSc3Cc5"
      },
      "outputs": [],
      "source": [
        "INIT_LR = 0.000001\n",
        "EPOCHS = 10\n",
        "\n",
        "opt = Adam(learning_rate=INIT_LR)\n",
        "\n",
        "model.compile(loss=\"categorical_crossentropy\", optimizer=opt, metrics=[\"accuracy\"])"
      ]
    },
    {
      "cell_type": "markdown",
      "source": [
        "### 6. Обучение модели искусственной нейронной сети:"
      ],
      "metadata": {
        "id": "EaJdxfw4hwjN"
      }
    },
    {
      "cell_type": "markdown",
      "source": [
        "#### 6.1. Добавим колбэки для сохранения лучшей модели по валидационной точности и остановки обучения, в случае, если модель перестала обучаться:"
      ],
      "metadata": {
        "id": "KAzlK96zi0dy"
      }
    },
    {
      "cell_type": "code",
      "execution_count": 22,
      "metadata": {
        "id": "2d6HT9jU3C3E"
      },
      "outputs": [],
      "source": [
        "from keras.callbacks import EarlyStopping, ModelCheckpoint\n",
        "\n",
        "early_stopping = EarlyStopping(patience=5,\n",
        "                             verbose=1) # Остановка обучения, если\n",
        "                                             # валидационная точность не\n",
        "                                             # улучшается в течение 5 эпох\n",
        "checkpoint = ModelCheckpoint(filepath=\"best_model.h5\",\n",
        "                             monitor=\"val_accuracy\",\n",
        "                             save_best_only=True,\n",
        "                             verbose=1) # Сохранение модели\n",
        "                                         # только при улучшении\n",
        "                                         # валидационной точности"
      ]
    },
    {
      "cell_type": "markdown",
      "source": [
        "#### 6.2. Запустим процесс обучения модели:"
      ],
      "metadata": {
        "id": "IgakM035jDPi"
      }
    },
    {
      "cell_type": "code",
      "execution_count": 23,
      "metadata": {
        "id": "YNloZiKH3DMV",
        "colab": {
          "base_uri": "https://localhost:8080/"
        },
        "outputId": "fd643494-40bf-432e-cdba-94162f50d18f"
      },
      "outputs": [
        {
          "output_type": "stream",
          "name": "stdout",
          "text": [
            "Epoch 1/10\n",
            "35/35 [==============================] - 165s 4s/step - loss: 1.0589 - accuracy: 0.4524 - val_loss: 1.0140 - val_accuracy: 0.5154\n",
            "Epoch 2/10\n",
            "35/35 [==============================] - 129s 4s/step - loss: 0.9816 - accuracy: 0.5740 - val_loss: 0.9652 - val_accuracy: 0.5612\n",
            "Epoch 3/10\n",
            "35/35 [==============================] - 122s 4s/step - loss: 0.9367 - accuracy: 0.6122 - val_loss: 0.9298 - val_accuracy: 0.6009\n",
            "Epoch 4/10\n",
            "35/35 [==============================] - 125s 4s/step - loss: 0.9028 - accuracy: 0.6322 - val_loss: 0.9062 - val_accuracy: 0.6167\n",
            "Epoch 5/10\n",
            "35/35 [==============================] - 134s 4s/step - loss: 0.8775 - accuracy: 0.6357 - val_loss: 0.8868 - val_accuracy: 0.6115\n",
            "Epoch 6/10\n",
            "35/35 [==============================] - 123s 4s/step - loss: 0.8572 - accuracy: 0.6451 - val_loss: 0.8749 - val_accuracy: 0.6273\n",
            "Epoch 7/10\n",
            "35/35 [==============================] - 125s 4s/step - loss: 0.8400 - accuracy: 0.6522 - val_loss: 0.8614 - val_accuracy: 0.6291\n",
            "Epoch 8/10\n",
            "35/35 [==============================] - 121s 3s/step - loss: 0.8227 - accuracy: 0.6616 - val_loss: 0.8597 - val_accuracy: 0.6291\n",
            "Epoch 9/10\n",
            "35/35 [==============================] - 126s 4s/step - loss: 0.8128 - accuracy: 0.6616 - val_loss: 0.8424 - val_accuracy: 0.6467\n",
            "Epoch 10/10\n",
            "35/35 [==============================] - 133s 4s/step - loss: 0.7969 - accuracy: 0.6786 - val_loss: 0.8430 - val_accuracy: 0.6432\n"
          ]
        }
      ],
      "source": [
        "H = model.fit(X_train, Y_train,\n",
        "              validation_data=(X_val, Y_val),\n",
        "              epochs=EPOCHS,\n",
        "              batch_size=100,\n",
        "              # callbacks=[early_stopping, checkpoint]\n",
        "              )"
      ]
    },
    {
      "cell_type": "markdown",
      "source": [
        "### 7. Оценка точности:"
      ],
      "metadata": {
        "id": "CLv-TknOoQ8l"
      }
    },
    {
      "cell_type": "markdown",
      "source": [
        "#### 7.1. Выведем отчет классификации"
      ],
      "metadata": {
        "id": "J16c8i49o2Kq"
      }
    },
    {
      "cell_type": "code",
      "execution_count": 24,
      "metadata": {
        "id": "cqmQz4mO3D5s",
        "colab": {
          "base_uri": "https://localhost:8080/"
        },
        "outputId": "959fecbc-0e18-458e-e78f-0c72b7bf86b4"
      },
      "outputs": [
        {
          "output_type": "stream",
          "name": "stdout",
          "text": [
            "36/36 [==============================] - 9s 250ms/step\n",
            "              precision    recall  f1-score   support\n",
            "\n",
            "     cavallo       0.71      0.68      0.70       399\n",
            "     gallina       0.54      0.71      0.61       385\n",
            "       ragno       0.76      0.52      0.62       351\n",
            "\n",
            "    accuracy                           0.64      1135\n",
            "   macro avg       0.67      0.64      0.64      1135\n",
            "weighted avg       0.67      0.64      0.64      1135\n",
            "\n"
          ]
        }
      ],
      "source": [
        "predictions = model.predict(X_val, batch_size=32)\n",
        "print(classification_report(Y_val.argmax(axis=1),\n",
        "\tpredictions.argmax(axis=1), target_names=lb.classes_))"
      ]
    },
    {
      "cell_type": "markdown",
      "source": [
        "#### 7.2. Выведем матрицу ошибок"
      ],
      "metadata": {
        "id": "YwbFnynjpKYS"
      }
    },
    {
      "cell_type": "code",
      "execution_count": 25,
      "metadata": {
        "id": "77_vkdSk3EOd",
        "colab": {
          "base_uri": "https://localhost:8080/",
          "height": 465
        },
        "outputId": "211a5e35-54a6-4e5d-966e-f9f42fce53d2"
      },
      "outputs": [
        {
          "output_type": "stream",
          "name": "stdout",
          "text": [
            "36/36 [==============================] - 10s 273ms/step\n"
          ]
        },
        {
          "output_type": "execute_result",
          "data": {
            "text/plain": [
              "<Axes: >"
            ]
          },
          "metadata": {},
          "execution_count": 25
        },
        {
          "output_type": "display_data",
          "data": {
            "text/plain": [
              "<Figure size 640x480 with 2 Axes>"
            ],
            "image/png": "[encoded data removed]"
          },
          "metadata": {}
        }
      ],
      "source": [
        "from sklearn.metrics import confusion_matrix\n",
        "import seaborn as sns\n",
        "\n",
        "# Получим прогнозы по валидационным даннным\n",
        "Y_pred = model.predict(X_val, batch_size=32)\n",
        "\n",
        "# Преобразуем вероятности в метки классов\n",
        "Y_pred = Y_pred.argmax(axis=1)\n",
        "Y_val = Y_val.argmax(axis=1)\n",
        "\n",
        "# Вычисляем матрицу ошибок\n",
        "conf_mat = confusion_matrix(Y_val, Y_pred)\n",
        "\n",
        "# Визуализируем матрицу ошибок\n",
        "sns.heatmap(conf_mat, annot=True, fmt=\"d\", cmap=\"YlGnBu\")"
      ]
    },
    {
      "cell_type": "markdown",
      "source": [
        "#### 7.3. Отобразим график обучения"
      ],
      "metadata": {
        "id": "oqoaYCciugwi"
      }
    },
    {
      "cell_type": "code",
      "execution_count": 26,
      "metadata": {
        "id": "ALa4XomM3EmL",
        "colab": {
          "base_uri": "https://localhost:8080/",
          "height": 477
        },
        "outputId": "37f36c1d-8892-4c54-9a64-ad6a0ab0e714"
      },
      "outputs": [
        {
          "output_type": "display_data",
          "data": {
            "text/plain": [
              "<Figure size 640x480 with 1 Axes>"
            ],
            "image/png": "[encoded data removed]"
          },
          "metadata": {}
        }
      ],
      "source": [
        "N = np.arange(0, 10)\n",
        "plt.style.use(\"ggplot\")\n",
        "plt.figure()\n",
        "plt.plot(N, H.history[\"loss\"], label=\"train_loss\")\n",
        "plt.plot(N, H.history[\"val_loss\"], label=\"val_loss\")\n",
        "plt.plot(N, H.history[\"accuracy\"], label=\"train_acc\")\n",
        "plt.plot(N, H.history[\"val_accuracy\"], label=\"val_acc\")\n",
        "plt.title(\"Training Loss and Accuracy (Simple NN)\")\n",
        "plt.xlabel(\"Epoch #\")\n",
        "plt.ylabel(\"Loss/Accuracy\")\n",
        "plt.legend()\n",
        "plt.savefig('plot.png')"
      ]
    },
    {
      "cell_type": "markdown",
      "source": [
        "### 8. Сохранение модели и меток классов:"
      ],
      "metadata": {
        "id": "RZfpw-xQu3Q8"
      }
    },
    {
      "cell_type": "code",
      "execution_count": 27,
      "metadata": {
        "id": "mGlt9K8N3E7D"
      },
      "outputs": [],
      "source": [
        "def save_model_and_labels(model, lb, model_path = \"model.h5\", labels_path = \"label_bin\"):\n",
        "\n",
        "    # Сохранение модели\n",
        "    model.save(model_path, save_format=\"h5\")\n",
        "\n",
        "    # Сохранение меток\n",
        "    with open(labels_path, \"wb\") as f:\n",
        "        f.write(pickle.dumps(lb))"
      ]
    },
    {
      "cell_type": "code",
      "source": [
        "model_path = \"model.h5\"\n",
        "labels_path = \"label_bin\"\n",
        "\n",
        "save_model_and_labels(model, lb, model_path, labels_path)"
      ],
      "metadata": {
        "colab": {
          "base_uri": "https://localhost:8080/"
        },
        "id": "35VQEgLwB97e",
        "outputId": "71f89eae-be93-48c7-c351-af40ed3db207"
      },
      "execution_count": 28,
      "outputs": [
        {
          "output_type": "stream",
          "name": "stderr",
          "text": [
            "/usr/local/lib/python3.10/dist-packages/keras/src/engine/training.py:3103: UserWarning: You are saving your model as an HDF5 file via `model.save()`. This file format is considered legacy. We recommend using instead the native Keras format, e.g. `model.save('my_model.keras')`.\n",
            "  saving_api.save_model(\n"
          ]
        }
      ]
    },
    {
      "cell_type": "markdown",
      "metadata": {
        "id": "YjyCuhw1aeti"
      },
      "source": [
        "### 9. Проверка обученной модели пользовательскими данными:"
      ]
    },
    {
      "cell_type": "markdown",
      "source": [
        "#### 9.1. Импортируем необходимые библиотеки"
      ],
      "metadata": {
        "id": "yfUIW800wuyu"
      }
    },
    {
      "cell_type": "code",
      "execution_count": 29,
      "metadata": {
        "id": "wk1qihbS3FR1",
        "colab": {
          "base_uri": "https://localhost:8080/"
        },
        "outputId": "9a8018cb-77ec-4f54-f7a5-f9bac114bf05"
      },
      "outputs": [
        {
          "output_type": "stream",
          "name": "stdout",
          "text": [
            "Requirement already satisfied: gradio in /usr/local/lib/python3.10/dist-packages (4.27.0)\n",
            "Requirement already satisfied: aiofiles<24.0,>=22.0 in /usr/local/lib/python3.10/dist-packages (from gradio) (23.2.1)\n",
            "Requirement already satisfied: altair<6.0,>=4.2.0 in /usr/local/lib/python3.10/dist-packages (from gradio) (4.2.2)\n",
            "Requirement already satisfied: fastapi in /usr/local/lib/python3.10/dist-packages (from gradio) (0.110.2)\n",
            "Requirement already satisfied: ffmpy in /usr/local/lib/python3.10/dist-packages (from gradio) (0.3.2)\n",
            "Requirement already satisfied: gradio-client==0.15.1 in /usr/local/lib/python3.10/dist-packages (from gradio) (0.15.1)\n",
            "Requirement already satisfied: httpx>=0.24.1 in /usr/local/lib/python3.10/dist-packages (from gradio) (0.27.0)\n",
            "Requirement already satisfied: huggingface-hub>=0.19.3 in /usr/local/lib/python3.10/dist-packages (from gradio) (0.20.3)\n",
            "Requirement already satisfied: importlib-resources<7.0,>=1.3 in /usr/local/lib/python3.10/dist-packages (from gradio) (6.4.0)\n",
            "Requirement already satisfied: jinja2<4.0 in /usr/local/lib/python3.10/dist-packages (from gradio) (3.1.3)\n",
            "Requirement already satisfied: markupsafe~=2.0 in /usr/local/lib/python3.10/dist-packages (from gradio) (2.1.5)\n",
            "Requirement already satisfied: matplotlib~=3.0 in /usr/local/lib/python3.10/dist-packages (from gradio) (3.7.1)\n",
            "Requirement already satisfied: numpy~=1.0 in /usr/local/lib/python3.10/dist-packages (from gradio) (1.25.2)\n",
            "Requirement already satisfied: orjson~=3.0 in /usr/local/lib/python3.10/dist-packages (from gradio) (3.10.1)\n",
            "Requirement already satisfied: packaging in /usr/local/lib/python3.10/dist-packages (from gradio) (24.0)\n",
            "Requirement already satisfied: pandas<3.0,>=1.0 in /usr/local/lib/python3.10/dist-packages (from gradio) (2.0.3)\n",
            "Requirement already satisfied: pillow<11.0,>=8.0 in /usr/local/lib/python3.10/dist-packages (from gradio) (9.4.0)\n",
            "Requirement already satisfied: pydantic>=2.0 in /usr/local/lib/python3.10/dist-packages (from gradio) (2.7.0)\n",
            "Requirement already satisfied: pydub in /usr/local/lib/python3.10/dist-packages (from gradio) (0.25.1)\n",
            "Requirement already satisfied: python-multipart>=0.0.9 in /usr/local/lib/python3.10/dist-packages (from gradio) (0.0.9)\n",
            "Requirement already satisfied: pyyaml<7.0,>=5.0 in /usr/local/lib/python3.10/dist-packages (from gradio) (6.0.1)\n",
            "Requirement already satisfied: ruff>=0.2.2 in /usr/local/lib/python3.10/dist-packages (from gradio) (0.4.1)\n",
            "Requirement already satisfied: semantic-version~=2.0 in /usr/local/lib/python3.10/dist-packages (from gradio) (2.10.0)\n",
            "Requirement already satisfied: tomlkit==0.12.0 in /usr/local/lib/python3.10/dist-packages (from gradio) (0.12.0)\n",
            "Requirement already satisfied: typer<1.0,>=0.12 in /usr/local/lib/python3.10/dist-packages (from gradio) (0.12.3)\n",
            "Requirement already satisfied: typing-extensions~=4.0 in /usr/local/lib/python3.10/dist-packages (from gradio) (4.11.0)\n",
            "Requirement already satisfied: urllib3~=2.0 in /usr/local/lib/python3.10/dist-packages (from gradio) (2.0.7)\n",
            "Requirement already satisfied: uvicorn>=0.14.0 in /usr/local/lib/python3.10/dist-packages (from gradio) (0.29.0)\n",
            "Requirement already satisfied: fsspec in /usr/local/lib/python3.10/dist-packages (from gradio-client==0.15.1->gradio) (2023.6.0)\n",
            "Requirement already satisfied: websockets<12.0,>=10.0 in /usr/local/lib/python3.10/dist-packages (from gradio-client==0.15.1->gradio) (11.0.3)\n",
            "Requirement already satisfied: entrypoints in /usr/local/lib/python3.10/dist-packages (from altair<6.0,>=4.2.0->gradio) (0.4)\n",
            "Requirement already satisfied: jsonschema>=3.0 in /usr/local/lib/python3.10/dist-packages (from altair<6.0,>=4.2.0->gradio) (4.19.2)\n",
            "Requirement already satisfied: toolz in /usr/local/lib/python3.10/dist-packages (from altair<6.0,>=4.2.0->gradio) (0.12.1)\n",
            "Requirement already satisfied: anyio in /usr/local/lib/python3.10/dist-packages (from httpx>=0.24.1->gradio) (3.7.1)\n",
            "Requirement already satisfied: certifi in /usr/local/lib/python3.10/dist-packages (from httpx>=0.24.1->gradio) (2024.2.2)\n",
            "Requirement already satisfied: httpcore==1.* in /usr/local/lib/python3.10/dist-packages (from httpx>=0.24.1->gradio) (1.0.5)\n",
            "Requirement already satisfied: idna in /usr/local/lib/python3.10/dist-packages (from httpx>=0.24.1->gradio) (3.7)\n",
            "Requirement already satisfied: sniffio in /usr/local/lib/python3.10/dist-packages (from httpx>=0.24.1->gradio) (1.3.1)\n",
            "Requirement already satisfied: h11<0.15,>=0.13 in /usr/local/lib/python3.10/dist-packages (from httpcore==1.*->httpx>=0.24.1->gradio) (0.14.0)\n",
            "Requirement already satisfied: filelock in /usr/local/lib/python3.10/dist-packages (from huggingface-hub>=0.19.3->gradio) (3.13.4)\n",
            "Requirement already satisfied: requests in /usr/local/lib/python3.10/dist-packages (from huggingface-hub>=0.19.3->gradio) (2.31.0)\n",
            "Requirement already satisfied: tqdm>=4.42.1 in /usr/local/lib/python3.10/dist-packages (from huggingface-hub>=0.19.3->gradio) (4.66.2)\n",
            "Requirement already satisfied: contourpy>=1.0.1 in /usr/local/lib/python3.10/dist-packages (from matplotlib~=3.0->gradio) (1.2.1)\n",
            "Requirement already satisfied: cycler>=0.10 in /usr/local/lib/python3.10/dist-packages (from matplotlib~=3.0->gradio) (0.12.1)\n",
            "Requirement already satisfied: fonttools>=4.22.0 in /usr/local/lib/python3.10/dist-packages (from matplotlib~=3.0->gradio) (4.51.0)\n",
            "Requirement already satisfied: kiwisolver>=1.0.1 in /usr/local/lib/python3.10/dist-packages (from matplotlib~=3.0->gradio) (1.4.5)\n",
            "Requirement already satisfied: pyparsing>=2.3.1 in /usr/local/lib/python3.10/dist-packages (from matplotlib~=3.0->gradio) (3.1.2)\n",
            "Requirement already satisfied: python-dateutil>=2.7 in /usr/local/lib/python3.10/dist-packages (from matplotlib~=3.0->gradio) (2.8.2)\n",
            "Requirement already satisfied: pytz>=2020.1 in /usr/local/lib/python3.10/dist-packages (from pandas<3.0,>=1.0->gradio) (2023.4)\n",
            "Requirement already satisfied: tzdata>=2022.1 in /usr/local/lib/python3.10/dist-packages (from pandas<3.0,>=1.0->gradio) (2024.1)\n",
            "Requirement already satisfied: annotated-types>=0.4.0 in /usr/local/lib/python3.10/dist-packages (from pydantic>=2.0->gradio) (0.6.0)\n",
            "Requirement already satisfied: pydantic-core==2.18.1 in /usr/local/lib/python3.10/dist-packages (from pydantic>=2.0->gradio) (2.18.1)\n",
            "Requirement already satisfied: click>=8.0.0 in /usr/local/lib/python3.10/dist-packages (from typer<1.0,>=0.12->gradio) (8.1.7)\n",
            "Requirement already satisfied: shellingham>=1.3.0 in /usr/local/lib/python3.10/dist-packages (from typer<1.0,>=0.12->gradio) (1.5.4)\n",
            "Requirement already satisfied: rich>=10.11.0 in /usr/local/lib/python3.10/dist-packages (from typer<1.0,>=0.12->gradio) (13.7.1)\n",
            "Requirement already satisfied: starlette<0.38.0,>=0.37.2 in /usr/local/lib/python3.10/dist-packages (from fastapi->gradio) (0.37.2)\n",
            "Requirement already satisfied: attrs>=22.2.0 in /usr/local/lib/python3.10/dist-packages (from jsonschema>=3.0->altair<6.0,>=4.2.0->gradio) (23.2.0)\n",
            "Requirement already satisfied: jsonschema-specifications>=2023.03.6 in /usr/local/lib/python3.10/dist-packages (from jsonschema>=3.0->altair<6.0,>=4.2.0->gradio) (2023.12.1)\n",
            "Requirement already satisfied: referencing>=0.28.4 in /usr/local/lib/python3.10/dist-packages (from jsonschema>=3.0->altair<6.0,>=4.2.0->gradio) (0.34.0)\n",
            "Requirement already satisfied: rpds-py>=0.7.1 in /usr/local/lib/python3.10/dist-packages (from jsonschema>=3.0->altair<6.0,>=4.2.0->gradio) (0.18.0)\n",
            "Requirement already satisfied: six>=1.5 in /usr/local/lib/python3.10/dist-packages (from python-dateutil>=2.7->matplotlib~=3.0->gradio) (1.16.0)\n",
            "Requirement already satisfied: markdown-it-py>=2.2.0 in /usr/local/lib/python3.10/dist-packages (from rich>=10.11.0->typer<1.0,>=0.12->gradio) (3.0.0)\n",
            "Requirement already satisfied: pygments<3.0.0,>=2.13.0 in /usr/local/lib/python3.10/dist-packages (from rich>=10.11.0->typer<1.0,>=0.12->gradio) (2.16.1)\n",
            "Requirement already satisfied: exceptiongroup in /usr/local/lib/python3.10/dist-packages (from anyio->httpx>=0.24.1->gradio) (1.2.0)\n",
            "Requirement already satisfied: charset-normalizer<4,>=2 in /usr/local/lib/python3.10/dist-packages (from requests->huggingface-hub>=0.19.3->gradio) (3.3.2)\n",
            "Requirement already satisfied: mdurl~=0.1 in /usr/local/lib/python3.10/dist-packages (from markdown-it-py>=2.2.0->rich>=10.11.0->typer<1.0,>=0.12->gradio) (0.1.2)\n"
          ]
        }
      ],
      "source": [
        "!pip install gradio"
      ]
    },
    {
      "cell_type": "code",
      "source": [
        "from keras.models import load_model\n",
        "import gradio as gr  # Библиотека для создания веб-интерфейсов\n",
        "import pickle\n",
        "import cv2"
      ],
      "metadata": {
        "id": "Irifse8ACBxe"
      },
      "execution_count": 30,
      "outputs": []
    },
    {
      "cell_type": "markdown",
      "source": [
        "#### 9.2. Реализуем функцию для предобработки входных данных в той же последовательности, что и при формировании обучающей выборки:"
      ],
      "metadata": {
        "id": "PM2dadCBwzES"
      }
    },
    {
      "cell_type": "code",
      "execution_count": 31,
      "metadata": {
        "id": "P4KLc85A3FkU"
      },
      "outputs": [],
      "source": [
        "def preprocess_image(img, compression_size = 32):\n",
        "\n",
        "    \"\"\"\n",
        "    Функция для изменения размера, \"выравнивания\" и масштабирования изображения.\n",
        "\n",
        "    Args:\n",
        "    img: Изображение.\n",
        "\n",
        "    Returns:\n",
        "    Предобработанное изображение.\n",
        "    \"\"\"\n",
        "\n",
        "    image = img.copy()  # Создаем копию изображения\n",
        "    # Изменяем размер изображения до compression_size x compression_size пикселей\n",
        "    image = cv2.resize(image, (compression_size, compression_size))\n",
        "    # Преобразуем изображение в одномерный массив (вектор)\n",
        "    image = image.flatten()\n",
        "    # Масштабируем значения пикселей к диапазону [0, 1]\n",
        "    image = image.astype(\"float\") / 255.0\n",
        "    # Преобразуем массив в формат, совместимый с нашей моделью Keras\n",
        "    image = image.reshape((1, image.shape[0]))\n",
        "\n",
        "    return image"
      ]
    },
    {
      "cell_type": "markdown",
      "source": [
        "#### 9.3. Определим функцию для осуществления прогноза по загруженной модели:"
      ],
      "metadata": {
        "id": "UXPI1dAIxvPz"
      }
    },
    {
      "cell_type": "code",
      "execution_count": 32,
      "metadata": {
        "id": "LO4Ty_t0anmv"
      },
      "outputs": [],
      "source": [
        "def predict_image(img, preprocess_func = preprocess_image, model_path = \"model.h5\", label_path = \"label_bin\"):\n",
        "\n",
        "    \"\"\"\n",
        "    Функция для выполнения предсказания класса, возвращает\n",
        "    словарь с вероятностями для каждого класса.\n",
        "\n",
        "    Args:\n",
        "    img: Изображение.\n",
        "    preprocess_funk: Функция для предобработки изображения.\n",
        "    model_path: Путь к файлу модели.\n",
        "    label_path: Путь к файлу с метками.\n",
        "\n",
        "    Returns:\n",
        "    Словарь с метками и вероятностями для каждого класса.\n",
        "    \"\"\"\n",
        "\n",
        "    # Загружаем модель и метки\n",
        "    model = load_model(model_path)  # Загрузка модели Keras\n",
        "    lb = pickle.loads(open(label_path, \"rb\").read())  # Загрузка словаря с метками\n",
        "\n",
        "    # Делаем предсказание на изображении\n",
        "    image = preprocess_func(img.copy())  # Предобработка изображения\n",
        "    preds = model.predict(image).flatten()  # Выполнение предсказания\n",
        "\n",
        "    # Возвращаем словарь с метками и вероятностями для каждого класса\n",
        "    confidences = {lb.classes_[i]: float(preds[i]) for i in range(len(preds))}\n",
        "\n",
        "    return confidences"
      ]
    },
    {
      "cell_type": "markdown",
      "source": [
        "### 10. Визуализируем интерфейс и произведем классификацию:"
      ],
      "metadata": {
        "id": "acXaOZ_z3dDq"
      }
    },
    {
      "cell_type": "code",
      "execution_count": 36,
      "metadata": {
        "id": "5wW8xYEB3dDr",
        "colab": {
          "base_uri": "https://localhost:8080/",
          "height": 663
        },
        "outputId": "ba433a45-8d45-4c39-b0b4-55439f9bc3d2"
      },
      "outputs": [
        {
          "output_type": "stream",
          "name": "stdout",
          "text": [
            "Colab notebook detected. This cell will run indefinitely so that you can see errors and logs. To turn off, set debug=False in launch().\n",
            "Running on public URL: https://7a8502332d077abb45.gradio.live\n",
            "\n",
            "This share link expires in 72 hours. For free permanent hosting and GPU upgrades, run `gradio deploy` from Terminal to deploy to Spaces (https://huggingface.co/spaces)\n"
          ]
        },
        {
          "output_type": "display_data",
          "data": {
            "text/plain": [
              "<IPython.core.display.HTML object>"
            ],
            "text/html": [
              "<div><iframe src=\"https://7a8502332d077abb45.gradio.live\" width=\"100%\" height=\"500\" allow=\"autoplay; camera; microphone; clipboard-read; clipboard-write;\" frameborder=\"0\" allowfullscreen></iframe></div>"
            ]
          },
          "metadata": {}
        },
        {
          "output_type": "stream",
          "name": "stdout",
          "text": [
            "1/1 [==============================] - 0s 111ms/step\n",
            "Keyboard interruption in main thread... closing server.\n",
            "Killing tunnel 127.0.0.1:7861 <> https://7a8502332d077abb45.gradio.live\n"
          ]
        },
        {
          "output_type": "execute_result",
          "data": {
            "text/plain": []
          },
          "metadata": {},
          "execution_count": 36
        }
      ],
      "source": [
        "interface = gr.Interface(\n",
        "    fn=predict_image,  # Функция, которая будет вызываться при загрузке изображения\n",
        "    inputs=gr.Image(label=\"Загрузите изображение\"),  # Входные данные: изображение\n",
        "    outputs= gr.Label(num_top_classes=len(lb.classes_)), # Выходные данные: топ-N классов с наибольшей вероятностью\n",
        "    examples=[\"https://notklop.ru/wp-content/uploads/2021/05/8.jpg\",\n",
        "              \"https://celes.club/uploads/posts/2021-12/thumbs/1639185281_59-celes-club-p-kurochka-belaya-ptitsi-krasivo-foto-64.jpg\",\n",
        "              \"https://w.forfun.com/fetch/ef/ef69a2469fe4f450163762d2e123e878.jpeg\",\n",
        "              \"https://think-quik.com/wp-content/uploads/2016/04/mg-9i5a3431.jpg\"\n",
        "              ])\n",
        "\n",
        "# Запускаем интерфейс\n",
        "interface.launch(debug=True, share=True)"
      ]
    }
  ]
}